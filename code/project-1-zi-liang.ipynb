{
 "cells": [
  {
   "cell_type": "markdown",
   "metadata": {},
   "source": [
    "# Project 1: SAT & ACT Analysis"
   ]
  },
  {
   "cell_type": "markdown",
   "metadata": {},
   "source": [
    "## Problem Statement\n",
    "\n",
    "Based on changes in state SAT and ACT participation rates and performance, which states should be targeted to raise SAT participation rates?"
   ]
  },
  {
   "cell_type": "markdown",
   "metadata": {},
   "source": [
    "## Executive Summary\n",
    "\n",
    "The college admissions tests landscape is fiercely competitive between the SAT and ACT. This project uses data from the 2017 and 2018 SAT and ACT tests across the US states to derive insights into participation rates through student performance visualization and statistical inferences.\n",
    "\n",
    "It will also form opinions on the reasons for state participation in college admissions tests and give recommendations on driving SAT participation in specific states.\n",
    "\n",
    "### Contents:\n",
    "- [2017 Data Import & Cleaning](#Data-Import-and-Cleaning)\n",
    "- [2018 Data Import and Cleaning](#2018-Data-Import-and-Cleaning)\n",
    "- [Data Dictionary for Final Dataframe](#Data-Dictionary-for-Final-Dataframe)\n",
    "- [Exploratory Data Analysis](#Exploratory-Data-Analysis)\n",
    "- [Data Visualization](#Visualize-the-data)\n",
    "- [Descriptive and Inferential Statistics](#Descriptive-and-Inferential-Statistics)\n",
    "- [Outside Research](#Outside-Research)\n",
    "- [Conclusions and Recommendations](#Conclusions-and-Recommendations)"
   ]
  },
  {
   "cell_type": "markdown",
   "metadata": {},
   "source": [
    "**If you combine your problem statement, executive summary, data dictionary, and conclusions/recommendations, you have an amazing README.md file that quickly aligns your audience to the contents of your project.** Don't forget to cite your data sources!"
   ]
  },
  {
   "cell_type": "markdown",
   "metadata": {},
   "source": [
    "*All libraries used should be added here*"
   ]
  },
  {
   "cell_type": "code",
   "execution_count": 1,
   "metadata": {},
   "outputs": [],
   "source": [
    "#Imports:\n",
    "import numpy as np\n",
    "import pandas as pd\n",
    "import seaborn as sns\n",
    "import matplotlib.pyplot as plt\n",
    "\n",
    "pd.set_option('display.max_columns', 100)\n",
    "sns.set_style(\"whitegrid\")"
   ]
  },
  {
   "cell_type": "markdown",
   "metadata": {},
   "source": [
    "## 2017 Data Import and Cleaning"
   ]
  },
  {
   "cell_type": "markdown",
   "metadata": {},
   "source": [
    "#### 1. Read In SAT & ACT  Data\n",
    "\n",
    "Read in the `sat_2017.csv` and `act_2017.csv` files and assign them to appropriately named pandas dataframes."
   ]
  },
  {
   "cell_type": "code",
   "execution_count": 2,
   "metadata": {},
   "outputs": [],
   "source": [
    "#Code:\n",
    "\n",
    "sat_df = pd.read_csv('../data/sat_2017.csv')\n",
    "act_df = pd.read_csv('../data/act_2017.csv')"
   ]
  },
  {
   "cell_type": "markdown",
   "metadata": {},
   "source": [
    "#### 2. Display Data\n",
    "\n",
    "Print the first 10 rows of each dataframe to your jupyter notebook"
   ]
  },
  {
   "cell_type": "code",
   "execution_count": 3,
   "metadata": {},
   "outputs": [
    {
     "data": {
      "text/html": [
       "<div>\n",
       "<style scoped>\n",
       "    .dataframe tbody tr th:only-of-type {\n",
       "        vertical-align: middle;\n",
       "    }\n",
       "\n",
       "    .dataframe tbody tr th {\n",
       "        vertical-align: top;\n",
       "    }\n",
       "\n",
       "    .dataframe thead th {\n",
       "        text-align: right;\n",
       "    }\n",
       "</style>\n",
       "<table border=\"1\" class=\"dataframe\">\n",
       "  <thead>\n",
       "    <tr style=\"text-align: right;\">\n",
       "      <th></th>\n",
       "      <th>State</th>\n",
       "      <th>Participation</th>\n",
       "      <th>Evidence-Based Reading and Writing</th>\n",
       "      <th>Math</th>\n",
       "      <th>Total</th>\n",
       "    </tr>\n",
       "  </thead>\n",
       "  <tbody>\n",
       "    <tr>\n",
       "      <th>0</th>\n",
       "      <td>Alabama</td>\n",
       "      <td>5%</td>\n",
       "      <td>593</td>\n",
       "      <td>572</td>\n",
       "      <td>1165</td>\n",
       "    </tr>\n",
       "    <tr>\n",
       "      <th>1</th>\n",
       "      <td>Alaska</td>\n",
       "      <td>38%</td>\n",
       "      <td>547</td>\n",
       "      <td>533</td>\n",
       "      <td>1080</td>\n",
       "    </tr>\n",
       "    <tr>\n",
       "      <th>2</th>\n",
       "      <td>Arizona</td>\n",
       "      <td>30%</td>\n",
       "      <td>563</td>\n",
       "      <td>553</td>\n",
       "      <td>1116</td>\n",
       "    </tr>\n",
       "    <tr>\n",
       "      <th>3</th>\n",
       "      <td>Arkansas</td>\n",
       "      <td>3%</td>\n",
       "      <td>614</td>\n",
       "      <td>594</td>\n",
       "      <td>1208</td>\n",
       "    </tr>\n",
       "    <tr>\n",
       "      <th>4</th>\n",
       "      <td>California</td>\n",
       "      <td>53%</td>\n",
       "      <td>531</td>\n",
       "      <td>524</td>\n",
       "      <td>1055</td>\n",
       "    </tr>\n",
       "    <tr>\n",
       "      <th>5</th>\n",
       "      <td>Colorado</td>\n",
       "      <td>11%</td>\n",
       "      <td>606</td>\n",
       "      <td>595</td>\n",
       "      <td>1201</td>\n",
       "    </tr>\n",
       "    <tr>\n",
       "      <th>6</th>\n",
       "      <td>Connecticut</td>\n",
       "      <td>100%</td>\n",
       "      <td>530</td>\n",
       "      <td>512</td>\n",
       "      <td>1041</td>\n",
       "    </tr>\n",
       "    <tr>\n",
       "      <th>7</th>\n",
       "      <td>Delaware</td>\n",
       "      <td>100%</td>\n",
       "      <td>503</td>\n",
       "      <td>492</td>\n",
       "      <td>996</td>\n",
       "    </tr>\n",
       "    <tr>\n",
       "      <th>8</th>\n",
       "      <td>District of Columbia</td>\n",
       "      <td>100%</td>\n",
       "      <td>482</td>\n",
       "      <td>468</td>\n",
       "      <td>950</td>\n",
       "    </tr>\n",
       "    <tr>\n",
       "      <th>9</th>\n",
       "      <td>Florida</td>\n",
       "      <td>83%</td>\n",
       "      <td>520</td>\n",
       "      <td>497</td>\n",
       "      <td>1017</td>\n",
       "    </tr>\n",
       "  </tbody>\n",
       "</table>\n",
       "</div>"
      ],
      "text/plain": [
       "                  State Participation  Evidence-Based Reading and Writing  \\\n",
       "0               Alabama            5%                                 593   \n",
       "1                Alaska           38%                                 547   \n",
       "2               Arizona           30%                                 563   \n",
       "3              Arkansas            3%                                 614   \n",
       "4            California           53%                                 531   \n",
       "5              Colorado           11%                                 606   \n",
       "6           Connecticut          100%                                 530   \n",
       "7              Delaware          100%                                 503   \n",
       "8  District of Columbia          100%                                 482   \n",
       "9               Florida           83%                                 520   \n",
       "\n",
       "   Math  Total  \n",
       "0   572   1165  \n",
       "1   533   1080  \n",
       "2   553   1116  \n",
       "3   594   1208  \n",
       "4   524   1055  \n",
       "5   595   1201  \n",
       "6   512   1041  \n",
       "7   492    996  \n",
       "8   468    950  \n",
       "9   497   1017  "
      ]
     },
     "execution_count": 3,
     "metadata": {},
     "output_type": "execute_result"
    }
   ],
   "source": [
    "#Code:\n",
    "sat_df.head(10)"
   ]
  },
  {
   "cell_type": "code",
   "execution_count": 4,
   "metadata": {},
   "outputs": [
    {
     "data": {
      "text/html": [
       "<div>\n",
       "<style scoped>\n",
       "    .dataframe tbody tr th:only-of-type {\n",
       "        vertical-align: middle;\n",
       "    }\n",
       "\n",
       "    .dataframe tbody tr th {\n",
       "        vertical-align: top;\n",
       "    }\n",
       "\n",
       "    .dataframe thead th {\n",
       "        text-align: right;\n",
       "    }\n",
       "</style>\n",
       "<table border=\"1\" class=\"dataframe\">\n",
       "  <thead>\n",
       "    <tr style=\"text-align: right;\">\n",
       "      <th></th>\n",
       "      <th>State</th>\n",
       "      <th>Participation</th>\n",
       "      <th>English</th>\n",
       "      <th>Math</th>\n",
       "      <th>Reading</th>\n",
       "      <th>Science</th>\n",
       "      <th>Composite</th>\n",
       "    </tr>\n",
       "  </thead>\n",
       "  <tbody>\n",
       "    <tr>\n",
       "      <th>0</th>\n",
       "      <td>National</td>\n",
       "      <td>60%</td>\n",
       "      <td>20.3</td>\n",
       "      <td>20.7</td>\n",
       "      <td>21.4</td>\n",
       "      <td>21.0</td>\n",
       "      <td>21.0</td>\n",
       "    </tr>\n",
       "    <tr>\n",
       "      <th>1</th>\n",
       "      <td>Alabama</td>\n",
       "      <td>100%</td>\n",
       "      <td>18.9</td>\n",
       "      <td>18.4</td>\n",
       "      <td>19.7</td>\n",
       "      <td>19.4</td>\n",
       "      <td>19.2</td>\n",
       "    </tr>\n",
       "    <tr>\n",
       "      <th>2</th>\n",
       "      <td>Alaska</td>\n",
       "      <td>65%</td>\n",
       "      <td>18.7</td>\n",
       "      <td>19.8</td>\n",
       "      <td>20.4</td>\n",
       "      <td>19.9</td>\n",
       "      <td>19.8</td>\n",
       "    </tr>\n",
       "    <tr>\n",
       "      <th>3</th>\n",
       "      <td>Arizona</td>\n",
       "      <td>62%</td>\n",
       "      <td>18.6</td>\n",
       "      <td>19.8</td>\n",
       "      <td>20.1</td>\n",
       "      <td>19.8</td>\n",
       "      <td>19.7</td>\n",
       "    </tr>\n",
       "    <tr>\n",
       "      <th>4</th>\n",
       "      <td>Arkansas</td>\n",
       "      <td>100%</td>\n",
       "      <td>18.9</td>\n",
       "      <td>19.0</td>\n",
       "      <td>19.7</td>\n",
       "      <td>19.5</td>\n",
       "      <td>19.4</td>\n",
       "    </tr>\n",
       "    <tr>\n",
       "      <th>5</th>\n",
       "      <td>California</td>\n",
       "      <td>31%</td>\n",
       "      <td>22.5</td>\n",
       "      <td>22.7</td>\n",
       "      <td>23.1</td>\n",
       "      <td>22.2</td>\n",
       "      <td>22.8</td>\n",
       "    </tr>\n",
       "    <tr>\n",
       "      <th>6</th>\n",
       "      <td>Colorado</td>\n",
       "      <td>100%</td>\n",
       "      <td>20.1</td>\n",
       "      <td>20.3</td>\n",
       "      <td>21.2</td>\n",
       "      <td>20.9</td>\n",
       "      <td>20.8</td>\n",
       "    </tr>\n",
       "    <tr>\n",
       "      <th>7</th>\n",
       "      <td>Connecticut</td>\n",
       "      <td>31%</td>\n",
       "      <td>25.5</td>\n",
       "      <td>24.6</td>\n",
       "      <td>25.6</td>\n",
       "      <td>24.6</td>\n",
       "      <td>25.2</td>\n",
       "    </tr>\n",
       "    <tr>\n",
       "      <th>8</th>\n",
       "      <td>Delaware</td>\n",
       "      <td>18%</td>\n",
       "      <td>24.1</td>\n",
       "      <td>23.4</td>\n",
       "      <td>24.8</td>\n",
       "      <td>23.6</td>\n",
       "      <td>24.1</td>\n",
       "    </tr>\n",
       "    <tr>\n",
       "      <th>9</th>\n",
       "      <td>District of Columbia</td>\n",
       "      <td>32%</td>\n",
       "      <td>24.4</td>\n",
       "      <td>23.5</td>\n",
       "      <td>24.9</td>\n",
       "      <td>23.5</td>\n",
       "      <td>24.2</td>\n",
       "    </tr>\n",
       "  </tbody>\n",
       "</table>\n",
       "</div>"
      ],
      "text/plain": [
       "                  State Participation  English  Math  Reading  Science  \\\n",
       "0              National           60%     20.3  20.7     21.4     21.0   \n",
       "1               Alabama          100%     18.9  18.4     19.7     19.4   \n",
       "2                Alaska           65%     18.7  19.8     20.4     19.9   \n",
       "3               Arizona           62%     18.6  19.8     20.1     19.8   \n",
       "4              Arkansas          100%     18.9  19.0     19.7     19.5   \n",
       "5            California           31%     22.5  22.7     23.1     22.2   \n",
       "6              Colorado          100%     20.1  20.3     21.2     20.9   \n",
       "7           Connecticut           31%     25.5  24.6     25.6     24.6   \n",
       "8              Delaware           18%     24.1  23.4     24.8     23.6   \n",
       "9  District of Columbia           32%     24.4  23.5     24.9     23.5   \n",
       "\n",
       "  Composite  \n",
       "0      21.0  \n",
       "1      19.2  \n",
       "2      19.8  \n",
       "3      19.7  \n",
       "4      19.4  \n",
       "5      22.8  \n",
       "6      20.8  \n",
       "7      25.2  \n",
       "8      24.1  \n",
       "9      24.2  "
      ]
     },
     "execution_count": 4,
     "metadata": {},
     "output_type": "execute_result"
    }
   ],
   "source": [
    "act_df.head(10)"
   ]
  },
  {
   "cell_type": "markdown",
   "metadata": {},
   "source": [
    "#### 3. Verbally Describe Data\n",
    "\n",
    "Take your time looking through the data and thoroughly describe the data in the markdown cell below. "
   ]
  },
  {
   "cell_type": "markdown",
   "metadata": {},
   "source": [
    "Answer: These are the educational scores of US residents for the SAT and ACT, two tests widely used for college admissions in the United States. The SAT results are grouped by the 50 US states and the District of Columbia, for a total of 51 entries, while the ACT results are grouped in the same manner with an additional \"National\" result, for a total of 52 entries. The data includes participation rates of states, scores of individual sections of each test, and total scores."
   ]
  },
  {
   "cell_type": "markdown",
   "metadata": {},
   "source": [
    "#### 4a. Does the data look complete? "
   ]
  },
  {
   "cell_type": "markdown",
   "metadata": {},
   "source": [
    "Answer: The SAT scores should have a row for national average. If that data is not available, we will have to exclude the ACT national average as there is no meaningful data to compare it with."
   ]
  },
  {
   "cell_type": "markdown",
   "metadata": {},
   "source": [
    "#### 4b. Are there any obvious issues with the observations?\n",
    "\n",
    "**What is the minimum *possible* value for each test/subtest? What is the maximum *possible* value?**\n",
    "\n",
    "Consider comparing any questionable values to the sources of your data:\n",
    "- [SAT](https://blog.collegevine.com/here-are-the-average-sat-scores-by-state/)\n",
    "- [ACT](https://blog.prepscholar.com/act-scores-by-state-averages-highs-and-lows)"
   ]
  },
  {
   "cell_type": "markdown",
   "metadata": {},
   "source": [
    "Answer: Minimum/maximum score for individual sections of SAT is 200/800.  Minimum/maximum score for individual sections of ACT is 1/36. The maximum total score for SAT is 1600 while the maximum total score of ACT is 36.\n",
    "\n",
    "The SAT math score for Maryland is suspiciously low and upon checking with the source, it was discovered that the score was entered errorneously as 52 instead of 524.\n",
    "\n",
    "Similarly, the ACT science score for Maryland is also much lower than usual. Upon checking with the source, it was discovered that the score was entered errorneously as 2.3 instead of 23.2."
   ]
  },
  {
   "cell_type": "markdown",
   "metadata": {},
   "source": [
    "#### 4c. Fix any errors you identified\n",
    "\n",
    "**The data is available** so there's no need to guess or calculate anything. If you didn't find any errors, continue to the next step."
   ]
  },
  {
   "cell_type": "code",
   "execution_count": 5,
   "metadata": {},
   "outputs": [],
   "source": [
    "#code\n",
    "sat_df['Math'].replace(52, 524, inplace=True)\n",
    "act_df['Science'].replace(2.3, 23.2, inplace=True)"
   ]
  },
  {
   "cell_type": "markdown",
   "metadata": {},
   "source": [
    "#### 5. What are your data types? \n",
    "Display the data types of each feature. "
   ]
  },
  {
   "cell_type": "code",
   "execution_count": 6,
   "metadata": {},
   "outputs": [
    {
     "data": {
      "text/plain": [
       "State                                 object\n",
       "Participation                         object\n",
       "Evidence-Based Reading and Writing     int64\n",
       "Math                                   int64\n",
       "Total                                  int64\n",
       "dtype: object"
      ]
     },
     "execution_count": 6,
     "metadata": {},
     "output_type": "execute_result"
    }
   ],
   "source": [
    "#code\n",
    "sat_df.dtypes"
   ]
  },
  {
   "cell_type": "code",
   "execution_count": 7,
   "metadata": {},
   "outputs": [
    {
     "data": {
      "text/plain": [
       "State             object\n",
       "Participation     object\n",
       "English          float64\n",
       "Math             float64\n",
       "Reading          float64\n",
       "Science          float64\n",
       "Composite         object\n",
       "dtype: object"
      ]
     },
     "execution_count": 7,
     "metadata": {},
     "output_type": "execute_result"
    }
   ],
   "source": [
    "act_df.dtypes"
   ]
  },
  {
   "cell_type": "markdown",
   "metadata": {},
   "source": [
    "What did you learn?\n",
    "- Do any of them seem odd?  \n",
    "- Which ones are not as they should be?  "
   ]
  },
  {
   "cell_type": "markdown",
   "metadata": {},
   "source": [
    "Answer: Participation in both dataframes are objects (for example 60%) and should be changed to floats (0.60). The \"composite\" column in the ACT dataframe should also be changed from object to float. "
   ]
  },
  {
   "cell_type": "markdown",
   "metadata": {},
   "source": [
    "#### 6. Fix Incorrect Data Types\n",
    "Based on what you discovered above, use appropriate methods to re-type incorrectly typed data.\n",
    "- Define a function that will allow you to convert participation rates to an appropriate numeric type. Use `map` or `apply` to change these columns in each dataframe."
   ]
  },
  {
   "cell_type": "code",
   "execution_count": 8,
   "metadata": {},
   "outputs": [],
   "source": [
    "#code\n",
    "def object_to_float(i):\n",
    "    return float(i.strip('%'))/100\n",
    "\n",
    "sat_df['Participation'] = sat_df['Participation'].apply(object_to_float)"
   ]
  },
  {
   "cell_type": "markdown",
   "metadata": {},
   "source": [
    "- Fix any individual values preventing other columns from being the appropriate type."
   ]
  },
  {
   "cell_type": "code",
   "execution_count": 9,
   "metadata": {},
   "outputs": [],
   "source": [
    "#code\n",
    "act_df['Participation'] = act_df['Participation'].apply(object_to_float)"
   ]
  },
  {
   "cell_type": "code",
   "execution_count": 10,
   "metadata": {},
   "outputs": [
    {
     "data": {
      "text/plain": [
       "'20.2x'"
      ]
     },
     "execution_count": 10,
     "metadata": {},
     "output_type": "execute_result"
    }
   ],
   "source": [
    "act_df['Composite'][51] "
   ]
  },
  {
   "cell_type": "code",
   "execution_count": 11,
   "metadata": {},
   "outputs": [],
   "source": [
    "act_df['Composite'].replace('20.2x', '23.2', inplace=True)"
   ]
  },
  {
   "cell_type": "markdown",
   "metadata": {},
   "source": [
    "- Finish your data modifications by making sure the columns are now typed appropriately."
   ]
  },
  {
   "cell_type": "code",
   "execution_count": 12,
   "metadata": {},
   "outputs": [],
   "source": [
    "#code\n",
    "act_df['Composite'] = act_df['Composite'].astype(float)"
   ]
  },
  {
   "cell_type": "markdown",
   "metadata": {},
   "source": [
    "- Display the data types again to confirm they are correct."
   ]
  },
  {
   "cell_type": "code",
   "execution_count": 13,
   "metadata": {},
   "outputs": [
    {
     "data": {
      "text/plain": [
       "State             object\n",
       "Participation    float64\n",
       "English          float64\n",
       "Math             float64\n",
       "Reading          float64\n",
       "Science          float64\n",
       "Composite        float64\n",
       "dtype: object"
      ]
     },
     "execution_count": 13,
     "metadata": {},
     "output_type": "execute_result"
    }
   ],
   "source": [
    "#Code:\n",
    "act_df.dtypes"
   ]
  },
  {
   "cell_type": "code",
   "execution_count": 14,
   "metadata": {},
   "outputs": [
    {
     "data": {
      "text/plain": [
       "State                                  object\n",
       "Participation                         float64\n",
       "Evidence-Based Reading and Writing      int64\n",
       "Math                                    int64\n",
       "Total                                   int64\n",
       "dtype: object"
      ]
     },
     "execution_count": 14,
     "metadata": {},
     "output_type": "execute_result"
    }
   ],
   "source": [
    "sat_df.dtypes"
   ]
  },
  {
   "cell_type": "markdown",
   "metadata": {},
   "source": [
    "#### 7. Rename Columns\n",
    "Change the names of the columns to more expressive names so that you can tell the difference the SAT columns and the ACT columns. Your solution should map all column names being changed at once (no repeated singular name-changes). **We will be combining these data with some of the data from 2018, and so you should name columns in an appropriate way**.\n",
    "\n",
    "**Guidelines**:\n",
    "- Column names should be all lowercase (you will thank yourself when you start pushing data to SQL later in the course)\n",
    "- Column names should not contain spaces (underscores will suffice--this allows for using the `df.column_name` method to access columns in addition to `df['column_name']`.\n",
    "- Column names should be unique and informative (the only feature that we actually share between dataframes is the state)."
   ]
  },
  {
   "cell_type": "code",
   "execution_count": 15,
   "metadata": {},
   "outputs": [],
   "source": [
    "#code\n",
    "\n",
    "sat_df.rename(columns={'State': 'state', \n",
    "                       'Participation': '2017_sat_participation', \n",
    "                       'Evidence-Based Reading and Writing': '2017_sat_read_write', \n",
    "                      'Math': '2017_sat_math', \n",
    "                      'Total': '2017_sat_total'}, inplace=True)"
   ]
  },
  {
   "cell_type": "code",
   "execution_count": 16,
   "metadata": {},
   "outputs": [],
   "source": [
    "act_df.rename(columns={'State': 'state', \n",
    "                       'Participation': '2017_act_participation', \n",
    "                       'English': '2017_act_english', \n",
    "                      'Math': '2017_act_math', \n",
    "                      'Reading': '2017_act_reading', \n",
    "                      'Science': '2017_act_science', \n",
    "                      'Composite': '2017_act_composite'}, inplace=True)"
   ]
  },
  {
   "cell_type": "markdown",
   "metadata": {},
   "source": [
    "#### 8. Create a data dictionary\n",
    "\n",
    "Now that we've fixed our data, and given it appropriate names, let's create a [data dictionary](http://library.ucmerced.edu/node/10249). \n",
    "\n",
    "A data dictionary provides a quick overview of features/variables/columns, alongside data types and descriptions. The more descriptive you can be, the more useful this document is.\n",
    "\n",
    "Example of a Fictional Data Dictionary Entry: \n",
    "\n",
    "|Feature|Type|Dataset|Description|\n",
    "|---|---|---|---|\n",
    "|**county_pop**|*integer*|2010 census|The population of the county (units in thousands, where 2.5 represents 2500 people).| \n",
    "|**per_poverty**|*float*|2010 census|The percent of the county over the age of 18 living below the 200% of official US poverty rate (units percent to two decimal places 98.10 means 98.1%)|\n",
    "\n",
    "[Here's a quick link to a short guide for formatting markdown in Jupyter notebooks](https://jupyter-notebook.readthedocs.io/en/stable/examples/Notebook/Working%20With%20Markdown%20Cells.html).\n",
    "\n",
    "Provided is the skeleton for formatting a markdown table, with columns headers that will help you create a data dictionary to quickly summarize your data, as well as some examples. **This would be a great thing to copy and paste into your custom README for this project.**"
   ]
  },
  {
   "cell_type": "markdown",
   "metadata": {},
   "source": [
    "## Data dictionary\n",
    "\n",
    "|Feature|Type|Dataset|Description|\n",
    "|---|---|---|---|\n",
    "|state|object|2017 SAT|US state where SAT data comes from, including DC.|\n",
    "|2017_sat_participation|float|2017 SAT|Participation rate in SAT within state.|\n",
    "|2017_sat_read_write|int|2017 SAT|Evidence-based Reading and Writing section of SAT, with score between 200 and 800.|\n",
    "|2017_sat_math|int|2017 SAT|Math section of SAT, with score between 200 and 800.|\n",
    "|2017_sat_total|int|2017 SAT|Total score of SAT, combining EBRW and Math sections, for total score between 400 and 1600.|\n",
    "|2017_act_participation|float|2017 ACT|Participation rate in ACT within state.|\n",
    "|2017_act_english|float|2017 ACT|English section of ACT, with score between 1 and 36.|\n",
    "|2017_act_math|float|2017 ACT|Math section of ACT, with score between 1 and 36.|\n",
    "|2017_act_reading|float|2017 ACT|Reading section of ACT, with score between 1 and 36.|\n",
    "|2017_act_science|float|2017 ACT|Science section of ACT, with score between 1 and 36.|\n",
    "|2017_act_composite|float|2017 ACT|Composite score of ACT averaging xcores from four subject sections, with score between 1 and 36.|"
   ]
  },
  {
   "cell_type": "markdown",
   "metadata": {},
   "source": [
    "#### 9. Drop unnecessary rows\n",
    "\n",
    "One of our dataframes contains an extra row. Identify and remove this from the dataframe."
   ]
  },
  {
   "cell_type": "code",
   "execution_count": 17,
   "metadata": {},
   "outputs": [],
   "source": [
    "#code \n",
    "act_df.drop([0],axis=0,inplace=True)"
   ]
  },
  {
   "cell_type": "markdown",
   "metadata": {},
   "source": [
    "#### 10. Merge Dataframes\n",
    "\n",
    "Join the 2017 ACT and SAT dataframes using the state in each dataframe as the key. Assign this to a new variable."
   ]
  },
  {
   "cell_type": "code",
   "execution_count": 18,
   "metadata": {},
   "outputs": [],
   "source": [
    "#Code:\n",
    "combined_2017_df = pd.merge(sat_df, act_df, on='state')"
   ]
  },
  {
   "cell_type": "markdown",
   "metadata": {},
   "source": [
    "#### 11. Save your cleaned, merged dataframe\n",
    "\n",
    "Use a relative path to save out your data as `combined_2017.csv`."
   ]
  },
  {
   "cell_type": "code",
   "execution_count": 19,
   "metadata": {},
   "outputs": [],
   "source": [
    "#code\n",
    "\n",
    "combined_2017_df.to_csv(r'/Users/ziliang/Desktop/GA-projects/project_1/ga-project-1/data/combined_2017.csv') "
   ]
  },
  {
   "cell_type": "markdown",
   "metadata": {},
   "source": [
    "## 2018 Data Import and Cleaning"
   ]
  },
  {
   "cell_type": "markdown",
   "metadata": {},
   "source": [
    "Links to the 2018 ACT and SAT data are provided in the README. These data live in PDFs, and so you'll get to enjoy practicing some *manual* data collection. Save these data as a CSV in your `data` directory, and import, explore, and clean these data in the same way you did above. **Make sure you comment on your steps so it is clear *why* you are doing each process**."
   ]
  },
  {
   "cell_type": "markdown",
   "metadata": {},
   "source": [
    "After manual extraction of 2018 SAT and ACT results into two separate CSV files, read in 2018 results into two dataframes."
   ]
  },
  {
   "cell_type": "code",
   "execution_count": 20,
   "metadata": {},
   "outputs": [],
   "source": [
    "act_2018_df = pd.read_csv('../data/act_2018.csv')\n",
    "\n",
    "sat_2018_df = pd.read_csv('../data/sat_2018.csv')"
   ]
  },
  {
   "cell_type": "markdown",
   "metadata": {},
   "source": [
    "Convert 'Participation' columns of both dataframes into float using earlier defined function."
   ]
  },
  {
   "cell_type": "code",
   "execution_count": 21,
   "metadata": {},
   "outputs": [],
   "source": [
    "sat_2018_df['Participation'] = sat_2018_df['Participation'].apply(object_to_float)\n",
    "\n",
    "act_2018_df['Participation'] = act_2018_df['Participation'].apply(object_to_float)"
   ]
  },
  {
   "cell_type": "markdown",
   "metadata": {},
   "source": [
    "Check data types of 2018 dataframes are float or int for numerical columns."
   ]
  },
  {
   "cell_type": "code",
   "execution_count": 22,
   "metadata": {},
   "outputs": [
    {
     "data": {
      "text/plain": [
       "State                                  object\n",
       "Participation                         float64\n",
       "Evidence-Based Reading and Writing      int64\n",
       "Math                                    int64\n",
       "Total                                   int64\n",
       "dtype: object"
      ]
     },
     "execution_count": 22,
     "metadata": {},
     "output_type": "execute_result"
    }
   ],
   "source": [
    "sat_2018_df.dtypes"
   ]
  },
  {
   "cell_type": "code",
   "execution_count": 23,
   "metadata": {},
   "outputs": [
    {
     "data": {
      "text/plain": [
       "State             object\n",
       "Participation    float64\n",
       "English          float64\n",
       "Math             float64\n",
       "Reading          float64\n",
       "Science          float64\n",
       "Composite        float64\n",
       "dtype: object"
      ]
     },
     "execution_count": 23,
     "metadata": {},
     "output_type": "execute_result"
    }
   ],
   "source": [
    "act_2018_df.dtypes"
   ]
  },
  {
   "cell_type": "markdown",
   "metadata": {},
   "source": [
    "Rename 2018 dataframes in the same format as 2017 dataframes."
   ]
  },
  {
   "cell_type": "code",
   "execution_count": 24,
   "metadata": {},
   "outputs": [],
   "source": [
    "sat_2018_df.rename(columns={'State': 'state', \n",
    "                       'Participation': '2018_sat_participation', \n",
    "                       'Evidence-Based Reading and Writing': '2018_sat_read_write', \n",
    "                      'Math': '2018_sat_math', \n",
    "                      'Total': '2018_sat_total'}, inplace=True)\n",
    "\n",
    "act_2018_df.rename(columns={'State': 'state', \n",
    "                       'Participation': '2018_act_participation', \n",
    "                       'English': '2018_act_english', \n",
    "                      'Math': '2018_act_math', \n",
    "                      'Reading': '2018_act_reading', \n",
    "                      'Science': '2018_act_science', \n",
    "                      'Composite': '2018_act_composite'}, inplace=True)"
   ]
  },
  {
   "cell_type": "markdown",
   "metadata": {},
   "source": [
    "Drop extra 'National' row from ACT 2018 dataframe."
   ]
  },
  {
   "cell_type": "code",
   "execution_count": 25,
   "metadata": {},
   "outputs": [],
   "source": [
    "act_2018_df.drop([0],axis=0,inplace=True)"
   ]
  },
  {
   "cell_type": "markdown",
   "metadata": {},
   "source": [
    "#### Combine your 2017 and 2018 data into a single dataframe\n",
    "Joining on state names should work, assuming you formatted all your state names identically. Make sure none of your columns (other than state) have identical names. Do yourself a favor and decide if you're encoding participation rates as floats or integers and standardize this across your datasets.\n",
    "\n",
    "Save the contents of this merged dataframe as `final.csv`.\n",
    "\n",
    "**Use this combined dataframe for the remainder of the project**."
   ]
  },
  {
   "cell_type": "code",
   "execution_count": 26,
   "metadata": {},
   "outputs": [],
   "source": [
    "combined_2017_sat_2018_df = pd.merge(combined_2017_df, sat_2018_df, on='state')\n",
    "\n",
    "final_df = pd.merge(combined_2017_sat_2018_df, act_2018_df, on='state')"
   ]
  },
  {
   "cell_type": "code",
   "execution_count": 27,
   "metadata": {},
   "outputs": [],
   "source": [
    "final_df.to_csv(r'/Users/ziliang/Desktop/GA-projects/project_1/ga-project-1/data/final.csv') "
   ]
  },
  {
   "cell_type": "markdown",
   "metadata": {},
   "source": [
    "## Data Dictionary for Final Dataframe\n",
    "\n",
    "|Feature|Type|Dataset|Description|\n",
    "|---|---|---|---|\n",
    "|state|object|2017 SAT|US state where SAT data comes from, including DC.|\n",
    "|2017_sat_participation|float|2017 SAT|Participation rate in SAT within state.|\n",
    "|2017_sat_read_write|int|2017 SAT|Evidence-based Reading and Writing section of SAT, with score between 200 and 800.|\n",
    "|2017_sat_math|int|2017 SAT|Math section of SAT, with score between 200 and 800.|\n",
    "|2017_sat_total|int|2017 SAT|Total score of SAT, combining EBRW and Math sections, for total score between 400 and 1600.|\n",
    "|2017_act_participation|float|2017 ACT|Participation rate in ACT within state.|\n",
    "|2017_act_english|float|2017 ACT|English section of ACT, with score between 1 and 36.|\n",
    "|2017_act_math|float|2017 ACT|Math section of ACT, with score between 1 and 36.|\n",
    "|2017_act_reading|float|2017 ACT|Reading section of ACT, with score between 1 and 36.|\n",
    "|2017_act_science|float|2017 ACT|Science section of ACT, with score between 1 and 36.|\n",
    "|2017_act_composite|float|2017 ACT|Composite score of ACT averaging xcores from four subject sections, with score between 1 and 36.|\n",
    "|2018_sat_participation|float|2018 SAT|Participation rate in SAT within state.|\n",
    "|2018_sat_read_write|int|2018 SAT|Evidence-based Reading and Writing section of SAT, with score between 200 and 800.|\n",
    "|2018_sat_math|int|2018 SAT|Math section of SAT, with score between 200 and 800.|\n",
    "|2018_sat_total|int|2018 SAT|Total score of SAT, combining EBRW and Math sections, for total score between 400 and 1600.|\n",
    "|2018_act_participation|float|2018 ACT|Participation rate in ACT within state.|\n",
    "|2018_act_english|float|2018 ACT|English section of ACT, with score between 1 and 36.|\n",
    "|2018_act_math|float|2018 ACT|Math section of ACT, with score between 1 and 36.|\n",
    "|2018_act_reading|float|2018 ACT|Reading section of ACT, with score between 1 and 36.|\n",
    "|2018_act_science|float|2018 ACT|Science section of ACT, with score between 1 and 36.|\n",
    "|2018_act_composite|float|2018 ACT|Composite score of ACT averaging xcores from four subject sections, with score between 1 and 36.|\n"
   ]
  },
  {
   "cell_type": "markdown",
   "metadata": {},
   "source": [
    "## Exploratory Data Analysis\n",
    "\n",
    "\n",
    "### Summary Statistics\n",
    "Transpose the output of pandas `describe` method to create a quick overview of each numeric feature."
   ]
  },
  {
   "cell_type": "code",
   "execution_count": 28,
   "metadata": {},
   "outputs": [
    {
     "data": {
      "text/html": [
       "<div>\n",
       "<style scoped>\n",
       "    .dataframe tbody tr th:only-of-type {\n",
       "        vertical-align: middle;\n",
       "    }\n",
       "\n",
       "    .dataframe tbody tr th {\n",
       "        vertical-align: top;\n",
       "    }\n",
       "\n",
       "    .dataframe thead th {\n",
       "        text-align: right;\n",
       "    }\n",
       "</style>\n",
       "<table border=\"1\" class=\"dataframe\">\n",
       "  <thead>\n",
       "    <tr style=\"text-align: right;\">\n",
       "      <th></th>\n",
       "      <th>2017_sat_participation</th>\n",
       "      <th>2017_sat_read_write</th>\n",
       "      <th>2017_sat_math</th>\n",
       "      <th>2017_sat_total</th>\n",
       "      <th>2017_act_participation</th>\n",
       "      <th>2017_act_english</th>\n",
       "      <th>2017_act_math</th>\n",
       "      <th>2017_act_reading</th>\n",
       "      <th>2017_act_science</th>\n",
       "      <th>2017_act_composite</th>\n",
       "      <th>2018_sat_participation</th>\n",
       "      <th>2018_sat_read_write</th>\n",
       "      <th>2018_sat_math</th>\n",
       "      <th>2018_sat_total</th>\n",
       "      <th>2018_act_participation</th>\n",
       "      <th>2018_act_english</th>\n",
       "      <th>2018_act_math</th>\n",
       "      <th>2018_act_reading</th>\n",
       "      <th>2018_act_science</th>\n",
       "      <th>2018_act_composite</th>\n",
       "    </tr>\n",
       "  </thead>\n",
       "  <tbody>\n",
       "    <tr>\n",
       "      <th>count</th>\n",
       "      <td>51.000000</td>\n",
       "      <td>51.000000</td>\n",
       "      <td>51.000000</td>\n",
       "      <td>51.000000</td>\n",
       "      <td>51.000000</td>\n",
       "      <td>51.000000</td>\n",
       "      <td>51.000000</td>\n",
       "      <td>51.000000</td>\n",
       "      <td>51.000000</td>\n",
       "      <td>51.000000</td>\n",
       "      <td>51.000000</td>\n",
       "      <td>51.000000</td>\n",
       "      <td>51.000000</td>\n",
       "      <td>51.000000</td>\n",
       "      <td>51.000000</td>\n",
       "      <td>51.000000</td>\n",
       "      <td>51.000000</td>\n",
       "      <td>51.000000</td>\n",
       "      <td>51.000000</td>\n",
       "      <td>51.000000</td>\n",
       "    </tr>\n",
       "    <tr>\n",
       "      <th>mean</th>\n",
       "      <td>0.398039</td>\n",
       "      <td>569.117647</td>\n",
       "      <td>556.882353</td>\n",
       "      <td>1126.098039</td>\n",
       "      <td>0.652549</td>\n",
       "      <td>20.931373</td>\n",
       "      <td>21.182353</td>\n",
       "      <td>22.013725</td>\n",
       "      <td>21.450980</td>\n",
       "      <td>21.578431</td>\n",
       "      <td>0.466275</td>\n",
       "      <td>567.294118</td>\n",
       "      <td>557.254902</td>\n",
       "      <td>1124.666667</td>\n",
       "      <td>0.616471</td>\n",
       "      <td>20.988235</td>\n",
       "      <td>21.125490</td>\n",
       "      <td>22.033333</td>\n",
       "      <td>21.341176</td>\n",
       "      <td>21.498039</td>\n",
       "    </tr>\n",
       "    <tr>\n",
       "      <th>std</th>\n",
       "      <td>0.352766</td>\n",
       "      <td>45.666901</td>\n",
       "      <td>47.121395</td>\n",
       "      <td>92.494812</td>\n",
       "      <td>0.321408</td>\n",
       "      <td>2.353677</td>\n",
       "      <td>1.981989</td>\n",
       "      <td>2.067271</td>\n",
       "      <td>1.739353</td>\n",
       "      <td>2.025173</td>\n",
       "      <td>0.380142</td>\n",
       "      <td>45.317676</td>\n",
       "      <td>48.887562</td>\n",
       "      <td>93.868561</td>\n",
       "      <td>0.340810</td>\n",
       "      <td>2.446356</td>\n",
       "      <td>2.035765</td>\n",
       "      <td>2.164132</td>\n",
       "      <td>1.870206</td>\n",
       "      <td>2.117686</td>\n",
       "    </tr>\n",
       "    <tr>\n",
       "      <th>min</th>\n",
       "      <td>0.020000</td>\n",
       "      <td>482.000000</td>\n",
       "      <td>468.000000</td>\n",
       "      <td>950.000000</td>\n",
       "      <td>0.080000</td>\n",
       "      <td>16.300000</td>\n",
       "      <td>18.000000</td>\n",
       "      <td>18.100000</td>\n",
       "      <td>18.200000</td>\n",
       "      <td>17.800000</td>\n",
       "      <td>0.020000</td>\n",
       "      <td>497.000000</td>\n",
       "      <td>480.000000</td>\n",
       "      <td>977.000000</td>\n",
       "      <td>0.070000</td>\n",
       "      <td>16.600000</td>\n",
       "      <td>17.800000</td>\n",
       "      <td>18.000000</td>\n",
       "      <td>17.900000</td>\n",
       "      <td>17.700000</td>\n",
       "    </tr>\n",
       "    <tr>\n",
       "      <th>25%</th>\n",
       "      <td>0.040000</td>\n",
       "      <td>533.500000</td>\n",
       "      <td>523.500000</td>\n",
       "      <td>1055.500000</td>\n",
       "      <td>0.310000</td>\n",
       "      <td>19.000000</td>\n",
       "      <td>19.400000</td>\n",
       "      <td>20.450000</td>\n",
       "      <td>19.950000</td>\n",
       "      <td>19.800000</td>\n",
       "      <td>0.045000</td>\n",
       "      <td>535.000000</td>\n",
       "      <td>521.500000</td>\n",
       "      <td>1062.500000</td>\n",
       "      <td>0.285000</td>\n",
       "      <td>19.100000</td>\n",
       "      <td>19.400000</td>\n",
       "      <td>20.450000</td>\n",
       "      <td>19.850000</td>\n",
       "      <td>19.950000</td>\n",
       "    </tr>\n",
       "    <tr>\n",
       "      <th>50%</th>\n",
       "      <td>0.380000</td>\n",
       "      <td>559.000000</td>\n",
       "      <td>548.000000</td>\n",
       "      <td>1107.000000</td>\n",
       "      <td>0.690000</td>\n",
       "      <td>20.700000</td>\n",
       "      <td>20.900000</td>\n",
       "      <td>21.800000</td>\n",
       "      <td>21.300000</td>\n",
       "      <td>21.400000</td>\n",
       "      <td>0.520000</td>\n",
       "      <td>552.000000</td>\n",
       "      <td>547.000000</td>\n",
       "      <td>1099.000000</td>\n",
       "      <td>0.660000</td>\n",
       "      <td>20.200000</td>\n",
       "      <td>20.700000</td>\n",
       "      <td>21.700000</td>\n",
       "      <td>21.100000</td>\n",
       "      <td>21.300000</td>\n",
       "    </tr>\n",
       "    <tr>\n",
       "      <th>75%</th>\n",
       "      <td>0.660000</td>\n",
       "      <td>613.000000</td>\n",
       "      <td>599.000000</td>\n",
       "      <td>1212.000000</td>\n",
       "      <td>1.000000</td>\n",
       "      <td>23.300000</td>\n",
       "      <td>23.100000</td>\n",
       "      <td>24.150000</td>\n",
       "      <td>23.200000</td>\n",
       "      <td>23.600000</td>\n",
       "      <td>0.795000</td>\n",
       "      <td>616.500000</td>\n",
       "      <td>600.500000</td>\n",
       "      <td>1220.000000</td>\n",
       "      <td>1.000000</td>\n",
       "      <td>23.700000</td>\n",
       "      <td>23.150000</td>\n",
       "      <td>24.100000</td>\n",
       "      <td>23.050000</td>\n",
       "      <td>23.650000</td>\n",
       "    </tr>\n",
       "    <tr>\n",
       "      <th>max</th>\n",
       "      <td>1.000000</td>\n",
       "      <td>644.000000</td>\n",
       "      <td>651.000000</td>\n",
       "      <td>1295.000000</td>\n",
       "      <td>1.000000</td>\n",
       "      <td>25.500000</td>\n",
       "      <td>25.300000</td>\n",
       "      <td>26.000000</td>\n",
       "      <td>24.900000</td>\n",
       "      <td>25.500000</td>\n",
       "      <td>1.000000</td>\n",
       "      <td>643.000000</td>\n",
       "      <td>655.000000</td>\n",
       "      <td>1298.000000</td>\n",
       "      <td>1.000000</td>\n",
       "      <td>26.000000</td>\n",
       "      <td>25.200000</td>\n",
       "      <td>26.100000</td>\n",
       "      <td>24.900000</td>\n",
       "      <td>25.600000</td>\n",
       "    </tr>\n",
       "  </tbody>\n",
       "</table>\n",
       "</div>"
      ],
      "text/plain": [
       "       2017_sat_participation  2017_sat_read_write  2017_sat_math  \\\n",
       "count               51.000000            51.000000      51.000000   \n",
       "mean                 0.398039           569.117647     556.882353   \n",
       "std                  0.352766            45.666901      47.121395   \n",
       "min                  0.020000           482.000000     468.000000   \n",
       "25%                  0.040000           533.500000     523.500000   \n",
       "50%                  0.380000           559.000000     548.000000   \n",
       "75%                  0.660000           613.000000     599.000000   \n",
       "max                  1.000000           644.000000     651.000000   \n",
       "\n",
       "       2017_sat_total  2017_act_participation  2017_act_english  \\\n",
       "count       51.000000               51.000000         51.000000   \n",
       "mean      1126.098039                0.652549         20.931373   \n",
       "std         92.494812                0.321408          2.353677   \n",
       "min        950.000000                0.080000         16.300000   \n",
       "25%       1055.500000                0.310000         19.000000   \n",
       "50%       1107.000000                0.690000         20.700000   \n",
       "75%       1212.000000                1.000000         23.300000   \n",
       "max       1295.000000                1.000000         25.500000   \n",
       "\n",
       "       2017_act_math  2017_act_reading  2017_act_science  2017_act_composite  \\\n",
       "count      51.000000         51.000000         51.000000           51.000000   \n",
       "mean       21.182353         22.013725         21.450980           21.578431   \n",
       "std         1.981989          2.067271          1.739353            2.025173   \n",
       "min        18.000000         18.100000         18.200000           17.800000   \n",
       "25%        19.400000         20.450000         19.950000           19.800000   \n",
       "50%        20.900000         21.800000         21.300000           21.400000   \n",
       "75%        23.100000         24.150000         23.200000           23.600000   \n",
       "max        25.300000         26.000000         24.900000           25.500000   \n",
       "\n",
       "       2018_sat_participation  2018_sat_read_write  2018_sat_math  \\\n",
       "count               51.000000            51.000000      51.000000   \n",
       "mean                 0.466275           567.294118     557.254902   \n",
       "std                  0.380142            45.317676      48.887562   \n",
       "min                  0.020000           497.000000     480.000000   \n",
       "25%                  0.045000           535.000000     521.500000   \n",
       "50%                  0.520000           552.000000     547.000000   \n",
       "75%                  0.795000           616.500000     600.500000   \n",
       "max                  1.000000           643.000000     655.000000   \n",
       "\n",
       "       2018_sat_total  2018_act_participation  2018_act_english  \\\n",
       "count       51.000000               51.000000         51.000000   \n",
       "mean      1124.666667                0.616471         20.988235   \n",
       "std         93.868561                0.340810          2.446356   \n",
       "min        977.000000                0.070000         16.600000   \n",
       "25%       1062.500000                0.285000         19.100000   \n",
       "50%       1099.000000                0.660000         20.200000   \n",
       "75%       1220.000000                1.000000         23.700000   \n",
       "max       1298.000000                1.000000         26.000000   \n",
       "\n",
       "       2018_act_math  2018_act_reading  2018_act_science  2018_act_composite  \n",
       "count      51.000000         51.000000         51.000000           51.000000  \n",
       "mean       21.125490         22.033333         21.341176           21.498039  \n",
       "std         2.035765          2.164132          1.870206            2.117686  \n",
       "min        17.800000         18.000000         17.900000           17.700000  \n",
       "25%        19.400000         20.450000         19.850000           19.950000  \n",
       "50%        20.700000         21.700000         21.100000           21.300000  \n",
       "75%        23.150000         24.100000         23.050000           23.650000  \n",
       "max        25.200000         26.100000         24.900000           25.600000  "
      ]
     },
     "execution_count": 28,
     "metadata": {},
     "output_type": "execute_result"
    }
   ],
   "source": [
    "#Code:\n",
    "final_df.describe()"
   ]
  },
  {
   "cell_type": "markdown",
   "metadata": {},
   "source": [
    "#### Manually calculate standard deviation\n",
    "\n",
    "$$\\sigma = \\sqrt{\\frac{1}{n}\\sum_{i=1}^n(x_i - \\mu)^2}$$\n",
    "\n",
    "- Write a function to calculate standard deviation using the formula above"
   ]
  },
  {
   "cell_type": "code",
   "execution_count": 29,
   "metadata": {},
   "outputs": [],
   "source": [
    "#code\n",
    "\n",
    "def stdev(list_of_numbers):\n",
    "    mean = sum(list_of_numbers)/len(list_of_numbers)\n",
    "    mean_diff_squared = []\n",
    "    \n",
    "    for number in list_of_numbers:\n",
    "        mean_diff_squared.append((number-mean)**2)\n",
    "        \n",
    "    return (sum(mean_diff_squared)/(len(list_of_numbers)))**0.5"
   ]
  },
  {
   "cell_type": "markdown",
   "metadata": {},
   "source": [
    "- Use a **dictionary comprehension** to apply your standard deviation function to each numeric column in the dataframe.  **No loops**  \n",
    "- Assign the output to variable `sd` as a dictionary where: \n",
    "    - Each column name is now a key \n",
    "    - That standard deviation of the column is the value \n",
    "     \n",
    "*Example Output :* `{'ACT_Math': 120, 'ACT_Reading': 120, ...}`"
   ]
  },
  {
   "cell_type": "code",
   "execution_count": 30,
   "metadata": {},
   "outputs": [
    {
     "data": {
      "text/plain": [
       "{'2017_sat_participation': 0.3492907076664507,\n",
       " '2017_sat_read_write': 45.21697020437866,\n",
       " '2017_sat_math': 46.65713364485503,\n",
       " '2017_sat_total': 91.58351056778743,\n",
       " '2017_act_participation': 0.3182417575123181,\n",
       " '2017_act_english': 2.3304876369363363,\n",
       " '2017_act_math': 1.9624620273436781,\n",
       " '2017_act_reading': 2.0469029314842646,\n",
       " '2017_act_science': 1.7222161451443676,\n",
       " '2017_act_composite': 2.005220023670592,\n",
       " '2018_sat_participation': 0.3763965409204987,\n",
       " '2018_sat_read_write': 44.87118561762388,\n",
       " '2018_sat_math': 48.40589946919447,\n",
       " '2018_sat_total': 92.94372462792965,\n",
       " '2018_act_participation': 0.33745194881997503,\n",
       " '2018_act_english': 2.4222536143202795,\n",
       " '2018_act_math': 2.015707255555717,\n",
       " '2018_act_reading': 2.14280983452291,\n",
       " '2018_act_science': 1.851779903767018,\n",
       " '2018_act_composite': 2.0968220768561987}"
      ]
     },
     "execution_count": 30,
     "metadata": {},
     "output_type": "execute_result"
    }
   ],
   "source": [
    "#Code:\n",
    "\n",
    "{col.name:stdev(col) for col in \n",
    " [final_df[i] for i in final_df.columns if \n",
    "  (final_df[i].dtype=='float64') or (final_df[i].dtype=='int64')]}"
   ]
  },
  {
   "cell_type": "markdown",
   "metadata": {},
   "source": [
    "Do your manually calculated standard deviations match up with the output from pandas `describe`? What about numpy's `std` method?"
   ]
  },
  {
   "cell_type": "markdown",
   "metadata": {},
   "source": [
    "They don't match up to the output from pandas `describe`, because pandas `describe` uses the standard deviation formula for a sample, while my standard deviation function uses the formula for a population. The results matches numpy's `std` method (as shown below, suggesting that numpy's `std` uses the formula for a population. "
   ]
  },
  {
   "cell_type": "code",
   "execution_count": 31,
   "metadata": {},
   "outputs": [
    {
     "data": {
      "text/plain": [
       "{'2017_sat_participation': 0.3492907076664507,\n",
       " '2017_sat_read_write': 45.21697020437866,\n",
       " '2017_sat_math': 46.65713364485503,\n",
       " '2017_sat_total': 91.58351056778743,\n",
       " '2017_act_participation': 0.3182417575123181,\n",
       " '2017_act_english': 2.3304876369363363,\n",
       " '2017_act_math': 1.9624620273436781,\n",
       " '2017_act_reading': 2.0469029314842646,\n",
       " '2017_act_science': 1.7222161451443676,\n",
       " '2017_act_composite': 2.005220023670592,\n",
       " '2018_sat_participation': 0.3763965409204987,\n",
       " '2018_sat_read_write': 44.87118561762388,\n",
       " '2018_sat_math': 48.40589946919447,\n",
       " '2018_sat_total': 92.94372462792965,\n",
       " '2018_act_participation': 0.33745194881997503,\n",
       " '2018_act_english': 2.4222536143202795,\n",
       " '2018_act_math': 2.015707255555717,\n",
       " '2018_act_reading': 2.14280983452291,\n",
       " '2018_act_science': 1.851779903767018,\n",
       " '2018_act_composite': 2.0968220768561987}"
      ]
     },
     "execution_count": 31,
     "metadata": {},
     "output_type": "execute_result"
    }
   ],
   "source": [
    "{col.name:np.std(col) for col in \n",
    " [final_df[i] for i in final_df.columns if \n",
    "  (final_df[i].dtype=='float64') or (final_df[i].dtype=='int64')]}"
   ]
  },
  {
   "cell_type": "markdown",
   "metadata": {},
   "source": [
    "#### Investigate trends in the data\n",
    "Using sorting and/or masking (along with the `.head` method to not print our entire dataframe), consider the following questions:\n",
    "\n",
    "- Which states have the highest and lowest participation rates for the:\n",
    "    - 2017 SAT?\n",
    "    - 2018 SAT?\n",
    "    - 2017 ACT?\n",
    "    - 2018 ACT?\n",
    "- Which states have the highest and lowest mean total/composite scores for the:\n",
    "    - 2017 SAT?\n",
    "    - 2018 SAT?\n",
    "    - 2017 ACT?\n",
    "    - 2018 ACT?\n",
    "- Do any states with 100% participation on a given test have a rate change year-to-year?\n",
    "- Do any states show have >50% participation on *both* tests either year?\n",
    "\n",
    "Based on what you've just observed, have you identified any states that you're especially interested in? **Make a note of these and state *why* you think they're interesting**.\n",
    "\n",
    "**You should comment on your findings at each step in a markdown cell below your code block**. Make sure you include at least one example of sorting your dataframe by a column, and one example of using boolean filtering (i.e., masking) to select a subset of the dataframe."
   ]
  },
  {
   "cell_type": "code",
   "execution_count": 32,
   "metadata": {},
   "outputs": [
    {
     "data": {
      "text/html": [
       "<div>\n",
       "<style scoped>\n",
       "    .dataframe tbody tr th:only-of-type {\n",
       "        vertical-align: middle;\n",
       "    }\n",
       "\n",
       "    .dataframe tbody tr th {\n",
       "        vertical-align: top;\n",
       "    }\n",
       "\n",
       "    .dataframe thead th {\n",
       "        text-align: right;\n",
       "    }\n",
       "</style>\n",
       "<table border=\"1\" class=\"dataframe\">\n",
       "  <thead>\n",
       "    <tr style=\"text-align: right;\">\n",
       "      <th></th>\n",
       "      <th>state</th>\n",
       "      <th>2017_sat_participation</th>\n",
       "    </tr>\n",
       "  </thead>\n",
       "  <tbody>\n",
       "    <tr>\n",
       "      <th>8</th>\n",
       "      <td>District of Columbia</td>\n",
       "      <td>1.00</td>\n",
       "    </tr>\n",
       "    <tr>\n",
       "      <th>22</th>\n",
       "      <td>Michigan</td>\n",
       "      <td>1.00</td>\n",
       "    </tr>\n",
       "    <tr>\n",
       "      <th>6</th>\n",
       "      <td>Connecticut</td>\n",
       "      <td>1.00</td>\n",
       "    </tr>\n",
       "    <tr>\n",
       "      <th>7</th>\n",
       "      <td>Delaware</td>\n",
       "      <td>1.00</td>\n",
       "    </tr>\n",
       "    <tr>\n",
       "      <th>29</th>\n",
       "      <td>New Hampshire</td>\n",
       "      <td>0.96</td>\n",
       "    </tr>\n",
       "  </tbody>\n",
       "</table>\n",
       "</div>"
      ],
      "text/plain": [
       "                   state  2017_sat_participation\n",
       "8   District of Columbia                    1.00\n",
       "22              Michigan                    1.00\n",
       "6            Connecticut                    1.00\n",
       "7               Delaware                    1.00\n",
       "29         New Hampshire                    0.96"
      ]
     },
     "execution_count": 32,
     "metadata": {},
     "output_type": "execute_result"
    }
   ],
   "source": [
    "#2017 SAT highest participation rates\n",
    "\n",
    "final_df.sort_values(by=['2017_sat_participation'],ascending=False)[['state', '2017_sat_participation']].head()"
   ]
  },
  {
   "cell_type": "code",
   "execution_count": 33,
   "metadata": {},
   "outputs": [
    {
     "data": {
      "text/html": [
       "<div>\n",
       "<style scoped>\n",
       "    .dataframe tbody tr th:only-of-type {\n",
       "        vertical-align: middle;\n",
       "    }\n",
       "\n",
       "    .dataframe tbody tr th {\n",
       "        vertical-align: top;\n",
       "    }\n",
       "\n",
       "    .dataframe thead th {\n",
       "        text-align: right;\n",
       "    }\n",
       "</style>\n",
       "<table border=\"1\" class=\"dataframe\">\n",
       "  <thead>\n",
       "    <tr style=\"text-align: right;\">\n",
       "      <th></th>\n",
       "      <th>state</th>\n",
       "      <th>2017_sat_participation</th>\n",
       "    </tr>\n",
       "  </thead>\n",
       "  <tbody>\n",
       "    <tr>\n",
       "      <th>34</th>\n",
       "      <td>North Dakota</td>\n",
       "      <td>0.02</td>\n",
       "    </tr>\n",
       "    <tr>\n",
       "      <th>24</th>\n",
       "      <td>Mississippi</td>\n",
       "      <td>0.02</td>\n",
       "    </tr>\n",
       "    <tr>\n",
       "      <th>15</th>\n",
       "      <td>Iowa</td>\n",
       "      <td>0.02</td>\n",
       "    </tr>\n",
       "    <tr>\n",
       "      <th>25</th>\n",
       "      <td>Missouri</td>\n",
       "      <td>0.03</td>\n",
       "    </tr>\n",
       "    <tr>\n",
       "      <th>44</th>\n",
       "      <td>Utah</td>\n",
       "      <td>0.03</td>\n",
       "    </tr>\n",
       "  </tbody>\n",
       "</table>\n",
       "</div>"
      ],
      "text/plain": [
       "           state  2017_sat_participation\n",
       "34  North Dakota                    0.02\n",
       "24   Mississippi                    0.02\n",
       "15          Iowa                    0.02\n",
       "25      Missouri                    0.03\n",
       "44          Utah                    0.03"
      ]
     },
     "execution_count": 33,
     "metadata": {},
     "output_type": "execute_result"
    }
   ],
   "source": [
    "#2017 SAT lowest participation rates\n",
    "\n",
    "final_df.sort_values(by=['2017_sat_participation'])[['state', '2017_sat_participation']].head()"
   ]
  },
  {
   "cell_type": "markdown",
   "metadata": {},
   "source": [
    "#### 2017 SAT participation rates\n",
    "\n",
    "The District of Columbia, Michigan, Connecticut, and Delaware have the highest participation rates at 100%.\n",
    "\n",
    "North Dakota, Mississippi, and Iowa have the lowest participation rates at 2%."
   ]
  },
  {
   "cell_type": "code",
   "execution_count": 34,
   "metadata": {},
   "outputs": [
    {
     "data": {
      "text/html": [
       "<div>\n",
       "<style scoped>\n",
       "    .dataframe tbody tr th:only-of-type {\n",
       "        vertical-align: middle;\n",
       "    }\n",
       "\n",
       "    .dataframe tbody tr th {\n",
       "        vertical-align: top;\n",
       "    }\n",
       "\n",
       "    .dataframe thead th {\n",
       "        text-align: right;\n",
       "    }\n",
       "</style>\n",
       "<table border=\"1\" class=\"dataframe\">\n",
       "  <thead>\n",
       "    <tr style=\"text-align: right;\">\n",
       "      <th></th>\n",
       "      <th>state</th>\n",
       "      <th>2018_sat_participation</th>\n",
       "    </tr>\n",
       "  </thead>\n",
       "  <tbody>\n",
       "    <tr>\n",
       "      <th>5</th>\n",
       "      <td>Colorado</td>\n",
       "      <td>1.00</td>\n",
       "    </tr>\n",
       "    <tr>\n",
       "      <th>6</th>\n",
       "      <td>Connecticut</td>\n",
       "      <td>1.00</td>\n",
       "    </tr>\n",
       "    <tr>\n",
       "      <th>7</th>\n",
       "      <td>Delaware</td>\n",
       "      <td>1.00</td>\n",
       "    </tr>\n",
       "    <tr>\n",
       "      <th>22</th>\n",
       "      <td>Michigan</td>\n",
       "      <td>1.00</td>\n",
       "    </tr>\n",
       "    <tr>\n",
       "      <th>12</th>\n",
       "      <td>Idaho</td>\n",
       "      <td>1.00</td>\n",
       "    </tr>\n",
       "    <tr>\n",
       "      <th>19</th>\n",
       "      <td>Maine</td>\n",
       "      <td>0.99</td>\n",
       "    </tr>\n",
       "  </tbody>\n",
       "</table>\n",
       "</div>"
      ],
      "text/plain": [
       "          state  2018_sat_participation\n",
       "5      Colorado                    1.00\n",
       "6   Connecticut                    1.00\n",
       "7      Delaware                    1.00\n",
       "22     Michigan                    1.00\n",
       "12        Idaho                    1.00\n",
       "19        Maine                    0.99"
      ]
     },
     "execution_count": 34,
     "metadata": {},
     "output_type": "execute_result"
    }
   ],
   "source": [
    "#2018 SAT highest participation rates\n",
    "\n",
    "final_df.sort_values(by=['2018_sat_participation'],ascending=False)[['state', '2018_sat_participation']].head(6)"
   ]
  },
  {
   "cell_type": "code",
   "execution_count": 35,
   "metadata": {},
   "outputs": [
    {
     "data": {
      "text/html": [
       "<div>\n",
       "<style scoped>\n",
       "    .dataframe tbody tr th:only-of-type {\n",
       "        vertical-align: middle;\n",
       "    }\n",
       "\n",
       "    .dataframe tbody tr th {\n",
       "        vertical-align: top;\n",
       "    }\n",
       "\n",
       "    .dataframe thead th {\n",
       "        text-align: right;\n",
       "    }\n",
       "</style>\n",
       "<table border=\"1\" class=\"dataframe\">\n",
       "  <thead>\n",
       "    <tr style=\"text-align: right;\">\n",
       "      <th></th>\n",
       "      <th>state</th>\n",
       "      <th>2018_sat_participation</th>\n",
       "    </tr>\n",
       "  </thead>\n",
       "  <tbody>\n",
       "    <tr>\n",
       "      <th>34</th>\n",
       "      <td>North Dakota</td>\n",
       "      <td>0.02</td>\n",
       "    </tr>\n",
       "    <tr>\n",
       "      <th>50</th>\n",
       "      <td>Wyoming</td>\n",
       "      <td>0.03</td>\n",
       "    </tr>\n",
       "    <tr>\n",
       "      <th>41</th>\n",
       "      <td>South Dakota</td>\n",
       "      <td>0.03</td>\n",
       "    </tr>\n",
       "    <tr>\n",
       "      <th>27</th>\n",
       "      <td>Nebraska</td>\n",
       "      <td>0.03</td>\n",
       "    </tr>\n",
       "    <tr>\n",
       "      <th>49</th>\n",
       "      <td>Wisconsin</td>\n",
       "      <td>0.03</td>\n",
       "    </tr>\n",
       "  </tbody>\n",
       "</table>\n",
       "</div>"
      ],
      "text/plain": [
       "           state  2018_sat_participation\n",
       "34  North Dakota                    0.02\n",
       "50       Wyoming                    0.03\n",
       "41  South Dakota                    0.03\n",
       "27      Nebraska                    0.03\n",
       "49     Wisconsin                    0.03"
      ]
     },
     "execution_count": 35,
     "metadata": {},
     "output_type": "execute_result"
    }
   ],
   "source": [
    "#2018 SAT lowest participation rates\n",
    "\n",
    "final_df.sort_values(by=['2018_sat_participation'])[['state', '2018_sat_participation']].head()"
   ]
  },
  {
   "cell_type": "markdown",
   "metadata": {},
   "source": [
    "#### 2018 SAT participation rates\n",
    "\n",
    "Colorado, Connecticut, Delaware, Michigan, and Idaho have the highest participation rates at 100%.\n",
    "\n",
    "North Dakota has the lowest participation rates at 2%."
   ]
  },
  {
   "cell_type": "code",
   "execution_count": 36,
   "metadata": {},
   "outputs": [
    {
     "data": {
      "text/html": [
       "<div>\n",
       "<style scoped>\n",
       "    .dataframe tbody tr th:only-of-type {\n",
       "        vertical-align: middle;\n",
       "    }\n",
       "\n",
       "    .dataframe tbody tr th {\n",
       "        vertical-align: top;\n",
       "    }\n",
       "\n",
       "    .dataframe thead th {\n",
       "        text-align: right;\n",
       "    }\n",
       "</style>\n",
       "<table border=\"1\" class=\"dataframe\">\n",
       "  <thead>\n",
       "    <tr style=\"text-align: right;\">\n",
       "      <th></th>\n",
       "      <th>state</th>\n",
       "      <th>2017_act_participation</th>\n",
       "    </tr>\n",
       "  </thead>\n",
       "  <tbody>\n",
       "    <tr>\n",
       "      <th>0</th>\n",
       "      <td>Alabama</td>\n",
       "      <td>1.00</td>\n",
       "    </tr>\n",
       "    <tr>\n",
       "      <th>17</th>\n",
       "      <td>Kentucky</td>\n",
       "      <td>1.00</td>\n",
       "    </tr>\n",
       "    <tr>\n",
       "      <th>49</th>\n",
       "      <td>Wisconsin</td>\n",
       "      <td>1.00</td>\n",
       "    </tr>\n",
       "    <tr>\n",
       "      <th>44</th>\n",
       "      <td>Utah</td>\n",
       "      <td>1.00</td>\n",
       "    </tr>\n",
       "    <tr>\n",
       "      <th>42</th>\n",
       "      <td>Tennessee</td>\n",
       "      <td>1.00</td>\n",
       "    </tr>\n",
       "    <tr>\n",
       "      <th>40</th>\n",
       "      <td>South Carolina</td>\n",
       "      <td>1.00</td>\n",
       "    </tr>\n",
       "    <tr>\n",
       "      <th>36</th>\n",
       "      <td>Oklahoma</td>\n",
       "      <td>1.00</td>\n",
       "    </tr>\n",
       "    <tr>\n",
       "      <th>33</th>\n",
       "      <td>North Carolina</td>\n",
       "      <td>1.00</td>\n",
       "    </tr>\n",
       "    <tr>\n",
       "      <th>28</th>\n",
       "      <td>Nevada</td>\n",
       "      <td>1.00</td>\n",
       "    </tr>\n",
       "    <tr>\n",
       "      <th>26</th>\n",
       "      <td>Montana</td>\n",
       "      <td>1.00</td>\n",
       "    </tr>\n",
       "    <tr>\n",
       "      <th>24</th>\n",
       "      <td>Mississippi</td>\n",
       "      <td>1.00</td>\n",
       "    </tr>\n",
       "    <tr>\n",
       "      <th>23</th>\n",
       "      <td>Minnesota</td>\n",
       "      <td>1.00</td>\n",
       "    </tr>\n",
       "    <tr>\n",
       "      <th>18</th>\n",
       "      <td>Louisiana</td>\n",
       "      <td>1.00</td>\n",
       "    </tr>\n",
       "    <tr>\n",
       "      <th>25</th>\n",
       "      <td>Missouri</td>\n",
       "      <td>1.00</td>\n",
       "    </tr>\n",
       "    <tr>\n",
       "      <th>50</th>\n",
       "      <td>Wyoming</td>\n",
       "      <td>1.00</td>\n",
       "    </tr>\n",
       "    <tr>\n",
       "      <th>5</th>\n",
       "      <td>Colorado</td>\n",
       "      <td>1.00</td>\n",
       "    </tr>\n",
       "    <tr>\n",
       "      <th>3</th>\n",
       "      <td>Arkansas</td>\n",
       "      <td>1.00</td>\n",
       "    </tr>\n",
       "    <tr>\n",
       "      <th>34</th>\n",
       "      <td>North Dakota</td>\n",
       "      <td>0.98</td>\n",
       "    </tr>\n",
       "  </tbody>\n",
       "</table>\n",
       "</div>"
      ],
      "text/plain": [
       "             state  2017_act_participation\n",
       "0          Alabama                    1.00\n",
       "17        Kentucky                    1.00\n",
       "49       Wisconsin                    1.00\n",
       "44            Utah                    1.00\n",
       "42       Tennessee                    1.00\n",
       "40  South Carolina                    1.00\n",
       "36        Oklahoma                    1.00\n",
       "33  North Carolina                    1.00\n",
       "28          Nevada                    1.00\n",
       "26         Montana                    1.00\n",
       "24     Mississippi                    1.00\n",
       "23       Minnesota                    1.00\n",
       "18       Louisiana                    1.00\n",
       "25        Missouri                    1.00\n",
       "50         Wyoming                    1.00\n",
       "5         Colorado                    1.00\n",
       "3         Arkansas                    1.00\n",
       "34    North Dakota                    0.98"
      ]
     },
     "execution_count": 36,
     "metadata": {},
     "output_type": "execute_result"
    }
   ],
   "source": [
    "#2017 ACT highest participation rates\n",
    "\n",
    "final_df.sort_values(by=['2017_act_participation'],ascending=False)[['state', '2017_act_participation']].head(18)"
   ]
  },
  {
   "cell_type": "code",
   "execution_count": 37,
   "metadata": {},
   "outputs": [
    {
     "data": {
      "text/html": [
       "<div>\n",
       "<style scoped>\n",
       "    .dataframe tbody tr th:only-of-type {\n",
       "        vertical-align: middle;\n",
       "    }\n",
       "\n",
       "    .dataframe tbody tr th {\n",
       "        vertical-align: top;\n",
       "    }\n",
       "\n",
       "    .dataframe thead th {\n",
       "        text-align: right;\n",
       "    }\n",
       "</style>\n",
       "<table border=\"1\" class=\"dataframe\">\n",
       "  <thead>\n",
       "    <tr style=\"text-align: right;\">\n",
       "      <th></th>\n",
       "      <th>state</th>\n",
       "      <th>2017_act_participation</th>\n",
       "    </tr>\n",
       "  </thead>\n",
       "  <tbody>\n",
       "    <tr>\n",
       "      <th>19</th>\n",
       "      <td>Maine</td>\n",
       "      <td>0.08</td>\n",
       "    </tr>\n",
       "    <tr>\n",
       "      <th>29</th>\n",
       "      <td>New Hampshire</td>\n",
       "      <td>0.18</td>\n",
       "    </tr>\n",
       "    <tr>\n",
       "      <th>7</th>\n",
       "      <td>Delaware</td>\n",
       "      <td>0.18</td>\n",
       "    </tr>\n",
       "    <tr>\n",
       "      <th>39</th>\n",
       "      <td>Rhode Island</td>\n",
       "      <td>0.21</td>\n",
       "    </tr>\n",
       "    <tr>\n",
       "      <th>38</th>\n",
       "      <td>Pennsylvania</td>\n",
       "      <td>0.23</td>\n",
       "    </tr>\n",
       "  </tbody>\n",
       "</table>\n",
       "</div>"
      ],
      "text/plain": [
       "            state  2017_act_participation\n",
       "19          Maine                    0.08\n",
       "29  New Hampshire                    0.18\n",
       "7        Delaware                    0.18\n",
       "39   Rhode Island                    0.21\n",
       "38   Pennsylvania                    0.23"
      ]
     },
     "execution_count": 37,
     "metadata": {},
     "output_type": "execute_result"
    }
   ],
   "source": [
    "#2017 ACT lowest participation rates\n",
    "\n",
    "final_df.sort_values(by=['2017_act_participation'])[['state', '2017_act_participation']].head()"
   ]
  },
  {
   "cell_type": "markdown",
   "metadata": {},
   "source": [
    "#### 2017 ACT participation rates\n",
    "\n",
    "Alabama, Kentucky, Wisconsin, Utah, Tennessee, South Carolina, Oklahoma, North Carolina, Nevada, Montana, Mississippi, Minnesota, Louisiana, Missouri, Wyoming, Colorado, and Arkansas have the highest participation rates at 100%.\n",
    "\n",
    "Maine has the lowest participation rate at 8%."
   ]
  },
  {
   "cell_type": "code",
   "execution_count": 38,
   "metadata": {},
   "outputs": [
    {
     "data": {
      "text/html": [
       "<div>\n",
       "<style scoped>\n",
       "    .dataframe tbody tr th:only-of-type {\n",
       "        vertical-align: middle;\n",
       "    }\n",
       "\n",
       "    .dataframe tbody tr th {\n",
       "        vertical-align: top;\n",
       "    }\n",
       "\n",
       "    .dataframe thead th {\n",
       "        text-align: right;\n",
       "    }\n",
       "</style>\n",
       "<table border=\"1\" class=\"dataframe\">\n",
       "  <thead>\n",
       "    <tr style=\"text-align: right;\">\n",
       "      <th></th>\n",
       "      <th>state</th>\n",
       "      <th>2018_act_participation</th>\n",
       "    </tr>\n",
       "  </thead>\n",
       "  <tbody>\n",
       "    <tr>\n",
       "      <th>0</th>\n",
       "      <td>Alabama</td>\n",
       "      <td>1.00</td>\n",
       "    </tr>\n",
       "    <tr>\n",
       "      <th>17</th>\n",
       "      <td>Kentucky</td>\n",
       "      <td>1.00</td>\n",
       "    </tr>\n",
       "    <tr>\n",
       "      <th>49</th>\n",
       "      <td>Wisconsin</td>\n",
       "      <td>1.00</td>\n",
       "    </tr>\n",
       "    <tr>\n",
       "      <th>44</th>\n",
       "      <td>Utah</td>\n",
       "      <td>1.00</td>\n",
       "    </tr>\n",
       "    <tr>\n",
       "      <th>42</th>\n",
       "      <td>Tennessee</td>\n",
       "      <td>1.00</td>\n",
       "    </tr>\n",
       "    <tr>\n",
       "      <th>40</th>\n",
       "      <td>South Carolina</td>\n",
       "      <td>1.00</td>\n",
       "    </tr>\n",
       "    <tr>\n",
       "      <th>36</th>\n",
       "      <td>Oklahoma</td>\n",
       "      <td>1.00</td>\n",
       "    </tr>\n",
       "    <tr>\n",
       "      <th>35</th>\n",
       "      <td>Ohio</td>\n",
       "      <td>1.00</td>\n",
       "    </tr>\n",
       "    <tr>\n",
       "      <th>33</th>\n",
       "      <td>North Carolina</td>\n",
       "      <td>1.00</td>\n",
       "    </tr>\n",
       "    <tr>\n",
       "      <th>28</th>\n",
       "      <td>Nevada</td>\n",
       "      <td>1.00</td>\n",
       "    </tr>\n",
       "    <tr>\n",
       "      <th>27</th>\n",
       "      <td>Nebraska</td>\n",
       "      <td>1.00</td>\n",
       "    </tr>\n",
       "    <tr>\n",
       "      <th>26</th>\n",
       "      <td>Montana</td>\n",
       "      <td>1.00</td>\n",
       "    </tr>\n",
       "    <tr>\n",
       "      <th>24</th>\n",
       "      <td>Mississippi</td>\n",
       "      <td>1.00</td>\n",
       "    </tr>\n",
       "    <tr>\n",
       "      <th>18</th>\n",
       "      <td>Louisiana</td>\n",
       "      <td>1.00</td>\n",
       "    </tr>\n",
       "    <tr>\n",
       "      <th>25</th>\n",
       "      <td>Missouri</td>\n",
       "      <td>1.00</td>\n",
       "    </tr>\n",
       "    <tr>\n",
       "      <th>50</th>\n",
       "      <td>Wyoming</td>\n",
       "      <td>1.00</td>\n",
       "    </tr>\n",
       "    <tr>\n",
       "      <th>3</th>\n",
       "      <td>Arkansas</td>\n",
       "      <td>1.00</td>\n",
       "    </tr>\n",
       "    <tr>\n",
       "      <th>23</th>\n",
       "      <td>Minnesota</td>\n",
       "      <td>0.99</td>\n",
       "    </tr>\n",
       "  </tbody>\n",
       "</table>\n",
       "</div>"
      ],
      "text/plain": [
       "             state  2018_act_participation\n",
       "0          Alabama                    1.00\n",
       "17        Kentucky                    1.00\n",
       "49       Wisconsin                    1.00\n",
       "44            Utah                    1.00\n",
       "42       Tennessee                    1.00\n",
       "40  South Carolina                    1.00\n",
       "36        Oklahoma                    1.00\n",
       "35            Ohio                    1.00\n",
       "33  North Carolina                    1.00\n",
       "28          Nevada                    1.00\n",
       "27        Nebraska                    1.00\n",
       "26         Montana                    1.00\n",
       "24     Mississippi                    1.00\n",
       "18       Louisiana                    1.00\n",
       "25        Missouri                    1.00\n",
       "50         Wyoming                    1.00\n",
       "3         Arkansas                    1.00\n",
       "23       Minnesota                    0.99"
      ]
     },
     "execution_count": 38,
     "metadata": {},
     "output_type": "execute_result"
    }
   ],
   "source": [
    "#2018 ACT highest participation rates\n",
    "\n",
    "final_df.sort_values(by=['2018_act_participation'],ascending=False)[['state', '2018_act_participation']].head(18)"
   ]
  },
  {
   "cell_type": "code",
   "execution_count": 39,
   "metadata": {},
   "outputs": [
    {
     "data": {
      "text/html": [
       "<div>\n",
       "<style scoped>\n",
       "    .dataframe tbody tr th:only-of-type {\n",
       "        vertical-align: middle;\n",
       "    }\n",
       "\n",
       "    .dataframe tbody tr th {\n",
       "        vertical-align: top;\n",
       "    }\n",
       "\n",
       "    .dataframe thead th {\n",
       "        text-align: right;\n",
       "    }\n",
       "</style>\n",
       "<table border=\"1\" class=\"dataframe\">\n",
       "  <thead>\n",
       "    <tr style=\"text-align: right;\">\n",
       "      <th></th>\n",
       "      <th>state</th>\n",
       "      <th>2018_act_participation</th>\n",
       "    </tr>\n",
       "  </thead>\n",
       "  <tbody>\n",
       "    <tr>\n",
       "      <th>19</th>\n",
       "      <td>Maine</td>\n",
       "      <td>0.07</td>\n",
       "    </tr>\n",
       "    <tr>\n",
       "      <th>39</th>\n",
       "      <td>Rhode Island</td>\n",
       "      <td>0.15</td>\n",
       "    </tr>\n",
       "    <tr>\n",
       "      <th>29</th>\n",
       "      <td>New Hampshire</td>\n",
       "      <td>0.16</td>\n",
       "    </tr>\n",
       "    <tr>\n",
       "      <th>7</th>\n",
       "      <td>Delaware</td>\n",
       "      <td>0.17</td>\n",
       "    </tr>\n",
       "    <tr>\n",
       "      <th>38</th>\n",
       "      <td>Pennsylvania</td>\n",
       "      <td>0.20</td>\n",
       "    </tr>\n",
       "  </tbody>\n",
       "</table>\n",
       "</div>"
      ],
      "text/plain": [
       "            state  2018_act_participation\n",
       "19          Maine                    0.07\n",
       "39   Rhode Island                    0.15\n",
       "29  New Hampshire                    0.16\n",
       "7        Delaware                    0.17\n",
       "38   Pennsylvania                    0.20"
      ]
     },
     "execution_count": 39,
     "metadata": {},
     "output_type": "execute_result"
    }
   ],
   "source": [
    "#2018 ACT lowest participation rates\n",
    "\n",
    "final_df.sort_values(by=['2018_act_participation'])[['state', '2018_act_participation']].head()"
   ]
  },
  {
   "cell_type": "markdown",
   "metadata": {},
   "source": [
    "#### 2018 ACT participation rates\n",
    "\n",
    "Alabama, Kentucky, Wisconsin, Utah, Tennessee, South Carolina, Oklahoma, Ohio, North Carolina, Nevada, Nebraska, Montana, Mississippi, Louisiana, Missouri, Wyoming, and Arkansas have the highest participation rates at 100%.\n",
    "\n",
    "Maine has the lowest participation rate at 7%."
   ]
  },
  {
   "cell_type": "code",
   "execution_count": 40,
   "metadata": {},
   "outputs": [
    {
     "data": {
      "text/html": [
       "<div>\n",
       "<style scoped>\n",
       "    .dataframe tbody tr th:only-of-type {\n",
       "        vertical-align: middle;\n",
       "    }\n",
       "\n",
       "    .dataframe tbody tr th {\n",
       "        vertical-align: top;\n",
       "    }\n",
       "\n",
       "    .dataframe thead th {\n",
       "        text-align: right;\n",
       "    }\n",
       "</style>\n",
       "<table border=\"1\" class=\"dataframe\">\n",
       "  <thead>\n",
       "    <tr style=\"text-align: right;\">\n",
       "      <th></th>\n",
       "      <th>state</th>\n",
       "      <th>2017_sat_total</th>\n",
       "    </tr>\n",
       "  </thead>\n",
       "  <tbody>\n",
       "    <tr>\n",
       "      <th>23</th>\n",
       "      <td>Minnesota</td>\n",
       "      <td>1295</td>\n",
       "    </tr>\n",
       "    <tr>\n",
       "      <th>49</th>\n",
       "      <td>Wisconsin</td>\n",
       "      <td>1291</td>\n",
       "    </tr>\n",
       "    <tr>\n",
       "      <th>15</th>\n",
       "      <td>Iowa</td>\n",
       "      <td>1275</td>\n",
       "    </tr>\n",
       "    <tr>\n",
       "      <th>25</th>\n",
       "      <td>Missouri</td>\n",
       "      <td>1271</td>\n",
       "    </tr>\n",
       "    <tr>\n",
       "      <th>16</th>\n",
       "      <td>Kansas</td>\n",
       "      <td>1260</td>\n",
       "    </tr>\n",
       "  </tbody>\n",
       "</table>\n",
       "</div>"
      ],
      "text/plain": [
       "        state  2017_sat_total\n",
       "23  Minnesota            1295\n",
       "49  Wisconsin            1291\n",
       "15       Iowa            1275\n",
       "25   Missouri            1271\n",
       "16     Kansas            1260"
      ]
     },
     "execution_count": 40,
     "metadata": {},
     "output_type": "execute_result"
    }
   ],
   "source": [
    "#2017 SAT higest total score\n",
    "\n",
    "final_df.sort_values(by=['2017_sat_total'],ascending=False)[['state', '2017_sat_total']].head()"
   ]
  },
  {
   "cell_type": "code",
   "execution_count": 41,
   "metadata": {},
   "outputs": [
    {
     "data": {
      "text/html": [
       "<div>\n",
       "<style scoped>\n",
       "    .dataframe tbody tr th:only-of-type {\n",
       "        vertical-align: middle;\n",
       "    }\n",
       "\n",
       "    .dataframe tbody tr th {\n",
       "        vertical-align: top;\n",
       "    }\n",
       "\n",
       "    .dataframe thead th {\n",
       "        text-align: right;\n",
       "    }\n",
       "</style>\n",
       "<table border=\"1\" class=\"dataframe\">\n",
       "  <thead>\n",
       "    <tr style=\"text-align: right;\">\n",
       "      <th></th>\n",
       "      <th>state</th>\n",
       "      <th>2017_sat_total</th>\n",
       "    </tr>\n",
       "  </thead>\n",
       "  <tbody>\n",
       "    <tr>\n",
       "      <th>8</th>\n",
       "      <td>District of Columbia</td>\n",
       "      <td>950</td>\n",
       "    </tr>\n",
       "    <tr>\n",
       "      <th>7</th>\n",
       "      <td>Delaware</td>\n",
       "      <td>996</td>\n",
       "    </tr>\n",
       "    <tr>\n",
       "      <th>12</th>\n",
       "      <td>Idaho</td>\n",
       "      <td>1005</td>\n",
       "    </tr>\n",
       "    <tr>\n",
       "      <th>22</th>\n",
       "      <td>Michigan</td>\n",
       "      <td>1005</td>\n",
       "    </tr>\n",
       "    <tr>\n",
       "      <th>19</th>\n",
       "      <td>Maine</td>\n",
       "      <td>1012</td>\n",
       "    </tr>\n",
       "  </tbody>\n",
       "</table>\n",
       "</div>"
      ],
      "text/plain": [
       "                   state  2017_sat_total\n",
       "8   District of Columbia             950\n",
       "7               Delaware             996\n",
       "12                 Idaho            1005\n",
       "22              Michigan            1005\n",
       "19                 Maine            1012"
      ]
     },
     "execution_count": 41,
     "metadata": {},
     "output_type": "execute_result"
    }
   ],
   "source": [
    "#2017 SAT lowest total score\n",
    "\n",
    "final_df.sort_values(by=['2017_sat_total'])[['state', '2017_sat_total']].head()"
   ]
  },
  {
   "cell_type": "markdown",
   "metadata": {},
   "source": [
    "#### 2017 SAT total scores\n",
    "\n",
    "Minnesota has the highest total score at 1295.\n",
    "\n",
    "The District of Columbia has the lowest total score at 950. "
   ]
  },
  {
   "cell_type": "code",
   "execution_count": 42,
   "metadata": {},
   "outputs": [
    {
     "data": {
      "text/html": [
       "<div>\n",
       "<style scoped>\n",
       "    .dataframe tbody tr th:only-of-type {\n",
       "        vertical-align: middle;\n",
       "    }\n",
       "\n",
       "    .dataframe tbody tr th {\n",
       "        vertical-align: top;\n",
       "    }\n",
       "\n",
       "    .dataframe thead th {\n",
       "        text-align: right;\n",
       "    }\n",
       "</style>\n",
       "<table border=\"1\" class=\"dataframe\">\n",
       "  <thead>\n",
       "    <tr style=\"text-align: right;\">\n",
       "      <th></th>\n",
       "      <th>state</th>\n",
       "      <th>2018_sat_total</th>\n",
       "    </tr>\n",
       "  </thead>\n",
       "  <tbody>\n",
       "    <tr>\n",
       "      <th>23</th>\n",
       "      <td>Minnesota</td>\n",
       "      <td>1298</td>\n",
       "    </tr>\n",
       "    <tr>\n",
       "      <th>49</th>\n",
       "      <td>Wisconsin</td>\n",
       "      <td>1294</td>\n",
       "    </tr>\n",
       "    <tr>\n",
       "      <th>34</th>\n",
       "      <td>North Dakota</td>\n",
       "      <td>1283</td>\n",
       "    </tr>\n",
       "    <tr>\n",
       "      <th>15</th>\n",
       "      <td>Iowa</td>\n",
       "      <td>1265</td>\n",
       "    </tr>\n",
       "    <tr>\n",
       "      <th>16</th>\n",
       "      <td>Kansas</td>\n",
       "      <td>1265</td>\n",
       "    </tr>\n",
       "  </tbody>\n",
       "</table>\n",
       "</div>"
      ],
      "text/plain": [
       "           state  2018_sat_total\n",
       "23     Minnesota            1298\n",
       "49     Wisconsin            1294\n",
       "34  North Dakota            1283\n",
       "15          Iowa            1265\n",
       "16        Kansas            1265"
      ]
     },
     "execution_count": 42,
     "metadata": {},
     "output_type": "execute_result"
    }
   ],
   "source": [
    "#2018 SAT higest total score\n",
    "\n",
    "final_df.sort_values(by=['2018_sat_total'],ascending=False)[['state', '2018_sat_total']].head()"
   ]
  },
  {
   "cell_type": "code",
   "execution_count": 43,
   "metadata": {},
   "outputs": [
    {
     "data": {
      "text/html": [
       "<div>\n",
       "<style scoped>\n",
       "    .dataframe tbody tr th:only-of-type {\n",
       "        vertical-align: middle;\n",
       "    }\n",
       "\n",
       "    .dataframe tbody tr th {\n",
       "        vertical-align: top;\n",
       "    }\n",
       "\n",
       "    .dataframe thead th {\n",
       "        text-align: right;\n",
       "    }\n",
       "</style>\n",
       "<table border=\"1\" class=\"dataframe\">\n",
       "  <thead>\n",
       "    <tr style=\"text-align: right;\">\n",
       "      <th></th>\n",
       "      <th>state</th>\n",
       "      <th>2018_sat_total</th>\n",
       "    </tr>\n",
       "  </thead>\n",
       "  <tbody>\n",
       "    <tr>\n",
       "      <th>8</th>\n",
       "      <td>District of Columbia</td>\n",
       "      <td>977</td>\n",
       "    </tr>\n",
       "    <tr>\n",
       "      <th>7</th>\n",
       "      <td>Delaware</td>\n",
       "      <td>998</td>\n",
       "    </tr>\n",
       "    <tr>\n",
       "      <th>48</th>\n",
       "      <td>West Virginia</td>\n",
       "      <td>999</td>\n",
       "    </tr>\n",
       "    <tr>\n",
       "      <th>12</th>\n",
       "      <td>Idaho</td>\n",
       "      <td>1001</td>\n",
       "    </tr>\n",
       "    <tr>\n",
       "      <th>22</th>\n",
       "      <td>Michigan</td>\n",
       "      <td>1011</td>\n",
       "    </tr>\n",
       "  </tbody>\n",
       "</table>\n",
       "</div>"
      ],
      "text/plain": [
       "                   state  2018_sat_total\n",
       "8   District of Columbia             977\n",
       "7               Delaware             998\n",
       "48         West Virginia             999\n",
       "12                 Idaho            1001\n",
       "22              Michigan            1011"
      ]
     },
     "execution_count": 43,
     "metadata": {},
     "output_type": "execute_result"
    }
   ],
   "source": [
    "#2018 SAT lowest total score\n",
    "\n",
    "final_df.sort_values(by=['2018_sat_total'])[['state', '2018_sat_total']].head()"
   ]
  },
  {
   "cell_type": "markdown",
   "metadata": {},
   "source": [
    "#### 2018 SAT total scores\n",
    "\n",
    "Minnesota has the highest total score at 1298.\n",
    "\n",
    "The District of Columbia has the lowest total score at 977. "
   ]
  },
  {
   "cell_type": "code",
   "execution_count": 44,
   "metadata": {},
   "outputs": [
    {
     "data": {
      "text/html": [
       "<div>\n",
       "<style scoped>\n",
       "    .dataframe tbody tr th:only-of-type {\n",
       "        vertical-align: middle;\n",
       "    }\n",
       "\n",
       "    .dataframe tbody tr th {\n",
       "        vertical-align: top;\n",
       "    }\n",
       "\n",
       "    .dataframe thead th {\n",
       "        text-align: right;\n",
       "    }\n",
       "</style>\n",
       "<table border=\"1\" class=\"dataframe\">\n",
       "  <thead>\n",
       "    <tr style=\"text-align: right;\">\n",
       "      <th></th>\n",
       "      <th>state</th>\n",
       "      <th>2017_act_composite</th>\n",
       "    </tr>\n",
       "  </thead>\n",
       "  <tbody>\n",
       "    <tr>\n",
       "      <th>29</th>\n",
       "      <td>New Hampshire</td>\n",
       "      <td>25.5</td>\n",
       "    </tr>\n",
       "    <tr>\n",
       "      <th>21</th>\n",
       "      <td>Massachusetts</td>\n",
       "      <td>25.4</td>\n",
       "    </tr>\n",
       "    <tr>\n",
       "      <th>6</th>\n",
       "      <td>Connecticut</td>\n",
       "      <td>25.2</td>\n",
       "    </tr>\n",
       "    <tr>\n",
       "      <th>19</th>\n",
       "      <td>Maine</td>\n",
       "      <td>24.3</td>\n",
       "    </tr>\n",
       "    <tr>\n",
       "      <th>32</th>\n",
       "      <td>New York</td>\n",
       "      <td>24.2</td>\n",
       "    </tr>\n",
       "  </tbody>\n",
       "</table>\n",
       "</div>"
      ],
      "text/plain": [
       "            state  2017_act_composite\n",
       "29  New Hampshire                25.5\n",
       "21  Massachusetts                25.4\n",
       "6     Connecticut                25.2\n",
       "19          Maine                24.3\n",
       "32       New York                24.2"
      ]
     },
     "execution_count": 44,
     "metadata": {},
     "output_type": "execute_result"
    }
   ],
   "source": [
    "#2017 ACT highest total score\n",
    "\n",
    "final_df.sort_values(by=['2017_act_composite'],ascending=False)[['state', '2017_act_composite']].head()"
   ]
  },
  {
   "cell_type": "code",
   "execution_count": 45,
   "metadata": {},
   "outputs": [
    {
     "data": {
      "text/html": [
       "<div>\n",
       "<style scoped>\n",
       "    .dataframe tbody tr th:only-of-type {\n",
       "        vertical-align: middle;\n",
       "    }\n",
       "\n",
       "    .dataframe tbody tr th {\n",
       "        vertical-align: top;\n",
       "    }\n",
       "\n",
       "    .dataframe thead th {\n",
       "        text-align: right;\n",
       "    }\n",
       "</style>\n",
       "<table border=\"1\" class=\"dataframe\">\n",
       "  <thead>\n",
       "    <tr style=\"text-align: right;\">\n",
       "      <th></th>\n",
       "      <th>state</th>\n",
       "      <th>2017_act_composite</th>\n",
       "    </tr>\n",
       "  </thead>\n",
       "  <tbody>\n",
       "    <tr>\n",
       "      <th>28</th>\n",
       "      <td>Nevada</td>\n",
       "      <td>17.8</td>\n",
       "    </tr>\n",
       "    <tr>\n",
       "      <th>24</th>\n",
       "      <td>Mississippi</td>\n",
       "      <td>18.6</td>\n",
       "    </tr>\n",
       "    <tr>\n",
       "      <th>40</th>\n",
       "      <td>South Carolina</td>\n",
       "      <td>18.7</td>\n",
       "    </tr>\n",
       "    <tr>\n",
       "      <th>11</th>\n",
       "      <td>Hawaii</td>\n",
       "      <td>19.0</td>\n",
       "    </tr>\n",
       "    <tr>\n",
       "      <th>33</th>\n",
       "      <td>North Carolina</td>\n",
       "      <td>19.1</td>\n",
       "    </tr>\n",
       "  </tbody>\n",
       "</table>\n",
       "</div>"
      ],
      "text/plain": [
       "             state  2017_act_composite\n",
       "28          Nevada                17.8\n",
       "24     Mississippi                18.6\n",
       "40  South Carolina                18.7\n",
       "11          Hawaii                19.0\n",
       "33  North Carolina                19.1"
      ]
     },
     "execution_count": 45,
     "metadata": {},
     "output_type": "execute_result"
    }
   ],
   "source": [
    "#2017 ACT lowest total score\n",
    "\n",
    "final_df.sort_values(by=['2017_act_composite'])[['state', '2017_act_composite']].head()"
   ]
  },
  {
   "cell_type": "markdown",
   "metadata": {},
   "source": [
    "#### 2017 ACT composite scores\n",
    "\n",
    "New Hampshire has the highest total score at 25.5.\n",
    "\n",
    "Nevada has the lowest total score at 17.8. "
   ]
  },
  {
   "cell_type": "code",
   "execution_count": 46,
   "metadata": {},
   "outputs": [
    {
     "data": {
      "text/html": [
       "<div>\n",
       "<style scoped>\n",
       "    .dataframe tbody tr th:only-of-type {\n",
       "        vertical-align: middle;\n",
       "    }\n",
       "\n",
       "    .dataframe tbody tr th {\n",
       "        vertical-align: top;\n",
       "    }\n",
       "\n",
       "    .dataframe thead th {\n",
       "        text-align: right;\n",
       "    }\n",
       "</style>\n",
       "<table border=\"1\" class=\"dataframe\">\n",
       "  <thead>\n",
       "    <tr style=\"text-align: right;\">\n",
       "      <th></th>\n",
       "      <th>state</th>\n",
       "      <th>2018_act_composite</th>\n",
       "    </tr>\n",
       "  </thead>\n",
       "  <tbody>\n",
       "    <tr>\n",
       "      <th>6</th>\n",
       "      <td>Connecticut</td>\n",
       "      <td>25.6</td>\n",
       "    </tr>\n",
       "    <tr>\n",
       "      <th>21</th>\n",
       "      <td>Massachusetts</td>\n",
       "      <td>25.5</td>\n",
       "    </tr>\n",
       "    <tr>\n",
       "      <th>29</th>\n",
       "      <td>New Hampshire</td>\n",
       "      <td>25.1</td>\n",
       "    </tr>\n",
       "    <tr>\n",
       "      <th>32</th>\n",
       "      <td>New York</td>\n",
       "      <td>24.5</td>\n",
       "    </tr>\n",
       "    <tr>\n",
       "      <th>22</th>\n",
       "      <td>Michigan</td>\n",
       "      <td>24.4</td>\n",
       "    </tr>\n",
       "  </tbody>\n",
       "</table>\n",
       "</div>"
      ],
      "text/plain": [
       "            state  2018_act_composite\n",
       "6     Connecticut                25.6\n",
       "21  Massachusetts                25.5\n",
       "29  New Hampshire                25.1\n",
       "32       New York                24.5\n",
       "22       Michigan                24.4"
      ]
     },
     "execution_count": 46,
     "metadata": {},
     "output_type": "execute_result"
    }
   ],
   "source": [
    "#2018 ACT highest total score\n",
    "\n",
    "final_df.sort_values(by=['2018_act_composite'],ascending=False)[['state', '2018_act_composite']].head()"
   ]
  },
  {
   "cell_type": "code",
   "execution_count": 47,
   "metadata": {},
   "outputs": [
    {
     "data": {
      "text/html": [
       "<div>\n",
       "<style scoped>\n",
       "    .dataframe tbody tr th:only-of-type {\n",
       "        vertical-align: middle;\n",
       "    }\n",
       "\n",
       "    .dataframe tbody tr th {\n",
       "        vertical-align: top;\n",
       "    }\n",
       "\n",
       "    .dataframe thead th {\n",
       "        text-align: right;\n",
       "    }\n",
       "</style>\n",
       "<table border=\"1\" class=\"dataframe\">\n",
       "  <thead>\n",
       "    <tr style=\"text-align: right;\">\n",
       "      <th></th>\n",
       "      <th>state</th>\n",
       "      <th>2018_act_composite</th>\n",
       "    </tr>\n",
       "  </thead>\n",
       "  <tbody>\n",
       "    <tr>\n",
       "      <th>28</th>\n",
       "      <td>Nevada</td>\n",
       "      <td>17.7</td>\n",
       "    </tr>\n",
       "    <tr>\n",
       "      <th>40</th>\n",
       "      <td>South Carolina</td>\n",
       "      <td>18.3</td>\n",
       "    </tr>\n",
       "    <tr>\n",
       "      <th>24</th>\n",
       "      <td>Mississippi</td>\n",
       "      <td>18.6</td>\n",
       "    </tr>\n",
       "    <tr>\n",
       "      <th>11</th>\n",
       "      <td>Hawaii</td>\n",
       "      <td>18.9</td>\n",
       "    </tr>\n",
       "    <tr>\n",
       "      <th>0</th>\n",
       "      <td>Alabama</td>\n",
       "      <td>19.1</td>\n",
       "    </tr>\n",
       "  </tbody>\n",
       "</table>\n",
       "</div>"
      ],
      "text/plain": [
       "             state  2018_act_composite\n",
       "28          Nevada                17.7\n",
       "40  South Carolina                18.3\n",
       "24     Mississippi                18.6\n",
       "11          Hawaii                18.9\n",
       "0          Alabama                19.1"
      ]
     },
     "execution_count": 47,
     "metadata": {},
     "output_type": "execute_result"
    }
   ],
   "source": [
    "#2018 ACT lowest total score\n",
    "\n",
    "final_df.sort_values(by=['2018_act_composite'])[['state', '2018_act_composite']].head()"
   ]
  },
  {
   "cell_type": "markdown",
   "metadata": {},
   "source": [
    "#### 2018 ACT composite scores\n",
    "\n",
    "Connecticut has the highest total score at 25.6.\n",
    "\n",
    "Nevada has the lowest total score at 17.7. "
   ]
  },
  {
   "cell_type": "markdown",
   "metadata": {},
   "source": [
    "\n",
    "Do any states with 100% participation on a given test have a rate change year-to-year?\n",
    "Do any states show have >50% participation on both tests either year?\n",
    "\n"
   ]
  },
  {
   "cell_type": "code",
   "execution_count": 48,
   "metadata": {},
   "outputs": [
    {
     "data": {
      "text/html": [
       "<div>\n",
       "<style scoped>\n",
       "    .dataframe tbody tr th:only-of-type {\n",
       "        vertical-align: middle;\n",
       "    }\n",
       "\n",
       "    .dataframe tbody tr th {\n",
       "        vertical-align: top;\n",
       "    }\n",
       "\n",
       "    .dataframe thead th {\n",
       "        text-align: right;\n",
       "    }\n",
       "</style>\n",
       "<table border=\"1\" class=\"dataframe\">\n",
       "  <thead>\n",
       "    <tr style=\"text-align: right;\">\n",
       "      <th></th>\n",
       "      <th>state</th>\n",
       "      <th>2017_sat_participation</th>\n",
       "      <th>2018_sat_participation</th>\n",
       "    </tr>\n",
       "  </thead>\n",
       "  <tbody>\n",
       "    <tr>\n",
       "      <th>8</th>\n",
       "      <td>District of Columbia</td>\n",
       "      <td>1.0</td>\n",
       "      <td>0.92</td>\n",
       "    </tr>\n",
       "  </tbody>\n",
       "</table>\n",
       "</div>"
      ],
      "text/plain": [
       "                  state  2017_sat_participation  2018_sat_participation\n",
       "8  District of Columbia                     1.0                    0.92"
      ]
     },
     "execution_count": 48,
     "metadata": {},
     "output_type": "execute_result"
    }
   ],
   "source": [
    "mask_sat_1 = (final_df['2017_sat_participation'] == 1) & (final_df['2018_sat_participation'] < 1)\n",
    "final_df[mask_sat_1][['state','2017_sat_participation', '2018_sat_participation']]"
   ]
  },
  {
   "cell_type": "code",
   "execution_count": 49,
   "metadata": {},
   "outputs": [
    {
     "data": {
      "text/html": [
       "<div>\n",
       "<style scoped>\n",
       "    .dataframe tbody tr th:only-of-type {\n",
       "        vertical-align: middle;\n",
       "    }\n",
       "\n",
       "    .dataframe tbody tr th {\n",
       "        vertical-align: top;\n",
       "    }\n",
       "\n",
       "    .dataframe thead th {\n",
       "        text-align: right;\n",
       "    }\n",
       "</style>\n",
       "<table border=\"1\" class=\"dataframe\">\n",
       "  <thead>\n",
       "    <tr style=\"text-align: right;\">\n",
       "      <th></th>\n",
       "      <th>state</th>\n",
       "      <th>2017_sat_participation</th>\n",
       "      <th>2018_sat_participation</th>\n",
       "    </tr>\n",
       "  </thead>\n",
       "  <tbody>\n",
       "    <tr>\n",
       "      <th>5</th>\n",
       "      <td>Colorado</td>\n",
       "      <td>0.11</td>\n",
       "      <td>1.0</td>\n",
       "    </tr>\n",
       "    <tr>\n",
       "      <th>12</th>\n",
       "      <td>Idaho</td>\n",
       "      <td>0.93</td>\n",
       "      <td>1.0</td>\n",
       "    </tr>\n",
       "  </tbody>\n",
       "</table>\n",
       "</div>"
      ],
      "text/plain": [
       "       state  2017_sat_participation  2018_sat_participation\n",
       "5   Colorado                    0.11                     1.0\n",
       "12     Idaho                    0.93                     1.0"
      ]
     },
     "execution_count": 49,
     "metadata": {},
     "output_type": "execute_result"
    }
   ],
   "source": [
    "mask_sat_2 = (final_df['2017_sat_participation'] < 1) & (final_df['2018_sat_participation'] == 1)\n",
    "final_df[mask_sat_2][['state','2017_sat_participation', '2018_sat_participation']]"
   ]
  },
  {
   "cell_type": "markdown",
   "metadata": {},
   "source": [
    "#### SAT year-to-year participation rate change\n",
    "\n",
    "The District of Columbia had 100% participation in 2017 and 92% participation in 2018. \n",
    "\n",
    "Colorado had 11% participation and Idaho had 93% participation in 2017, but both states had 100% participation in 2018."
   ]
  },
  {
   "cell_type": "code",
   "execution_count": 50,
   "metadata": {},
   "outputs": [
    {
     "data": {
      "text/html": [
       "<div>\n",
       "<style scoped>\n",
       "    .dataframe tbody tr th:only-of-type {\n",
       "        vertical-align: middle;\n",
       "    }\n",
       "\n",
       "    .dataframe tbody tr th {\n",
       "        vertical-align: top;\n",
       "    }\n",
       "\n",
       "    .dataframe thead th {\n",
       "        text-align: right;\n",
       "    }\n",
       "</style>\n",
       "<table border=\"1\" class=\"dataframe\">\n",
       "  <thead>\n",
       "    <tr style=\"text-align: right;\">\n",
       "      <th></th>\n",
       "      <th>state</th>\n",
       "      <th>2017_act_participation</th>\n",
       "      <th>2018_act_participation</th>\n",
       "    </tr>\n",
       "  </thead>\n",
       "  <tbody>\n",
       "    <tr>\n",
       "      <th>5</th>\n",
       "      <td>Colorado</td>\n",
       "      <td>1.0</td>\n",
       "      <td>0.30</td>\n",
       "    </tr>\n",
       "    <tr>\n",
       "      <th>23</th>\n",
       "      <td>Minnesota</td>\n",
       "      <td>1.0</td>\n",
       "      <td>0.99</td>\n",
       "    </tr>\n",
       "  </tbody>\n",
       "</table>\n",
       "</div>"
      ],
      "text/plain": [
       "        state  2017_act_participation  2018_act_participation\n",
       "5    Colorado                     1.0                    0.30\n",
       "23  Minnesota                     1.0                    0.99"
      ]
     },
     "execution_count": 50,
     "metadata": {},
     "output_type": "execute_result"
    }
   ],
   "source": [
    "mask_act_1 = (final_df['2017_act_participation'] == 1) & (final_df['2018_act_participation'] < 1)\n",
    "final_df[mask_act_1][['state','2017_act_participation', '2018_act_participation']]"
   ]
  },
  {
   "cell_type": "code",
   "execution_count": 51,
   "metadata": {},
   "outputs": [
    {
     "data": {
      "text/html": [
       "<div>\n",
       "<style scoped>\n",
       "    .dataframe tbody tr th:only-of-type {\n",
       "        vertical-align: middle;\n",
       "    }\n",
       "\n",
       "    .dataframe tbody tr th {\n",
       "        vertical-align: top;\n",
       "    }\n",
       "\n",
       "    .dataframe thead th {\n",
       "        text-align: right;\n",
       "    }\n",
       "</style>\n",
       "<table border=\"1\" class=\"dataframe\">\n",
       "  <thead>\n",
       "    <tr style=\"text-align: right;\">\n",
       "      <th></th>\n",
       "      <th>state</th>\n",
       "      <th>2017_act_participation</th>\n",
       "      <th>2018_act_participation</th>\n",
       "    </tr>\n",
       "  </thead>\n",
       "  <tbody>\n",
       "    <tr>\n",
       "      <th>27</th>\n",
       "      <td>Nebraska</td>\n",
       "      <td>0.84</td>\n",
       "      <td>1.0</td>\n",
       "    </tr>\n",
       "    <tr>\n",
       "      <th>35</th>\n",
       "      <td>Ohio</td>\n",
       "      <td>0.75</td>\n",
       "      <td>1.0</td>\n",
       "    </tr>\n",
       "  </tbody>\n",
       "</table>\n",
       "</div>"
      ],
      "text/plain": [
       "       state  2017_act_participation  2018_act_participation\n",
       "27  Nebraska                    0.84                     1.0\n",
       "35      Ohio                    0.75                     1.0"
      ]
     },
     "execution_count": 51,
     "metadata": {},
     "output_type": "execute_result"
    }
   ],
   "source": [
    "mask_act_2 = (final_df['2017_act_participation'] < 1) & (final_df['2018_act_participation'] == 1)\n",
    "final_df[mask_act_2][['state','2017_act_participation', '2018_act_participation']]"
   ]
  },
  {
   "cell_type": "markdown",
   "metadata": {},
   "source": [
    "#### ACT year-to-year participation rate change\n",
    "\n",
    "Colorado and Minnesota had 100% participation in 2017; participation fell to 30% and 99% respectively in 2018. \n",
    "\n",
    "Nebraska had 84% participation and Ohio had 75% participation in 2017, but both states had 100% participation in 2018."
   ]
  },
  {
   "cell_type": "code",
   "execution_count": 52,
   "metadata": {},
   "outputs": [
    {
     "data": {
      "text/html": [
       "<div>\n",
       "<style scoped>\n",
       "    .dataframe tbody tr th:only-of-type {\n",
       "        vertical-align: middle;\n",
       "    }\n",
       "\n",
       "    .dataframe tbody tr th {\n",
       "        vertical-align: top;\n",
       "    }\n",
       "\n",
       "    .dataframe thead th {\n",
       "        text-align: right;\n",
       "    }\n",
       "</style>\n",
       "<table border=\"1\" class=\"dataframe\">\n",
       "  <thead>\n",
       "    <tr style=\"text-align: right;\">\n",
       "      <th></th>\n",
       "      <th>state</th>\n",
       "      <th>2017_sat_participation</th>\n",
       "      <th>2017_act_participation</th>\n",
       "    </tr>\n",
       "  </thead>\n",
       "  <tbody>\n",
       "    <tr>\n",
       "      <th>9</th>\n",
       "      <td>Florida</td>\n",
       "      <td>0.83</td>\n",
       "      <td>0.73</td>\n",
       "    </tr>\n",
       "    <tr>\n",
       "      <th>10</th>\n",
       "      <td>Georgia</td>\n",
       "      <td>0.61</td>\n",
       "      <td>0.55</td>\n",
       "    </tr>\n",
       "    <tr>\n",
       "      <th>11</th>\n",
       "      <td>Hawaii</td>\n",
       "      <td>0.55</td>\n",
       "      <td>0.90</td>\n",
       "    </tr>\n",
       "  </tbody>\n",
       "</table>\n",
       "</div>"
      ],
      "text/plain": [
       "      state  2017_sat_participation  2017_act_participation\n",
       "9   Florida                    0.83                    0.73\n",
       "10  Georgia                    0.61                    0.55\n",
       "11   Hawaii                    0.55                    0.90"
      ]
     },
     "execution_count": 52,
     "metadata": {},
     "output_type": "execute_result"
    }
   ],
   "source": [
    "mask_2017 = (final_df['2017_sat_participation'] > 0.5) & (final_df['2017_act_participation'] > 0.5)\n",
    "\n",
    "final_df[mask_2017][['state','2017_sat_participation', '2017_act_participation']]"
   ]
  },
  {
   "cell_type": "code",
   "execution_count": 53,
   "metadata": {},
   "outputs": [
    {
     "data": {
      "text/html": [
       "<div>\n",
       "<style scoped>\n",
       "    .dataframe tbody tr th:only-of-type {\n",
       "        vertical-align: middle;\n",
       "    }\n",
       "\n",
       "    .dataframe tbody tr th {\n",
       "        vertical-align: top;\n",
       "    }\n",
       "\n",
       "    .dataframe thead th {\n",
       "        text-align: right;\n",
       "    }\n",
       "</style>\n",
       "<table border=\"1\" class=\"dataframe\">\n",
       "  <thead>\n",
       "    <tr style=\"text-align: right;\">\n",
       "      <th></th>\n",
       "      <th>state</th>\n",
       "      <th>2018_sat_participation</th>\n",
       "      <th>2018_act_participation</th>\n",
       "    </tr>\n",
       "  </thead>\n",
       "  <tbody>\n",
       "    <tr>\n",
       "      <th>9</th>\n",
       "      <td>Florida</td>\n",
       "      <td>0.97</td>\n",
       "      <td>0.66</td>\n",
       "    </tr>\n",
       "    <tr>\n",
       "      <th>10</th>\n",
       "      <td>Georgia</td>\n",
       "      <td>0.70</td>\n",
       "      <td>0.53</td>\n",
       "    </tr>\n",
       "    <tr>\n",
       "      <th>11</th>\n",
       "      <td>Hawaii</td>\n",
       "      <td>0.56</td>\n",
       "      <td>0.89</td>\n",
       "    </tr>\n",
       "    <tr>\n",
       "      <th>33</th>\n",
       "      <td>North Carolina</td>\n",
       "      <td>0.52</td>\n",
       "      <td>1.00</td>\n",
       "    </tr>\n",
       "    <tr>\n",
       "      <th>40</th>\n",
       "      <td>South Carolina</td>\n",
       "      <td>0.55</td>\n",
       "      <td>1.00</td>\n",
       "    </tr>\n",
       "  </tbody>\n",
       "</table>\n",
       "</div>"
      ],
      "text/plain": [
       "             state  2018_sat_participation  2018_act_participation\n",
       "9          Florida                    0.97                    0.66\n",
       "10         Georgia                    0.70                    0.53\n",
       "11          Hawaii                    0.56                    0.89\n",
       "33  North Carolina                    0.52                    1.00\n",
       "40  South Carolina                    0.55                    1.00"
      ]
     },
     "execution_count": 53,
     "metadata": {},
     "output_type": "execute_result"
    }
   ],
   "source": [
    "mask_2018 = (final_df['2018_sat_participation'] > 0.5) & (final_df['2018_act_participation'] > 0.5)\n",
    "\n",
    "final_df[mask_2018][['state','2018_sat_participation', '2018_act_participation']]"
   ]
  },
  {
   "cell_type": "markdown",
   "metadata": {},
   "source": [
    "#### High participation rates for both tests\n",
    "\n",
    "Florida, Georgia, and Hawaii have more than 50% participation in both tests in 2017.\n",
    "\n",
    "Florida, Georgia, Hawaii, North Carolina, and South Carolina have more than 50% participation in 2018. "
   ]
  },
  {
   "cell_type": "markdown",
   "metadata": {},
   "source": [
    "# Based on what you've just observed, have you identified any states that you're especially interested in? Make a note of these and state why you think they're interesting.\n",
    "\n",
    "Colorado and Illinois have a high year-to-year change in participation rates for SAT and ACT. This bears more investigation to discover the underlying reasons. "
   ]
  },
  {
   "cell_type": "markdown",
   "metadata": {},
   "source": [
    "## Visualize the data\n",
    "\n",
    "There's not a magic bullet recommendation for the right number of plots to understand a given dataset, but visualizing your data is *always* a good idea. Not only does it allow you to quickly convey your findings (even if you have a non-technical audience), it will often reveal trends in your data that escaped you when you were looking only at numbers.\n",
    "\n",
    "Some recommendations on plotting:\n",
    "- Plots have titles\n",
    "- Plots have axis labels\n",
    "- Plots have appropriate tick labels\n",
    "- All text is legible in a plot\n",
    "- Plots demonstrate meaningful and valid relationships\n",
    "- Plots are interpreted to aid understanding\n",
    "\n",
    "There is such a thing as too many plots, and there are a *lot* of bad plots. You might make some! (But hopefully not with the guided prompts below)."
   ]
  },
  {
   "cell_type": "markdown",
   "metadata": {},
   "source": [
    "#### Use Seaborn's heatmap with pandas `.corr()` to visualize correlations between all numeric features\n",
    "\n",
    "Heatmaps are generally not appropriate for presentations, and should often be excluded from reports as they can be visually overwhelming. **However**, they can be extremely useful in identify relationships of potential interest (as well as identifying potential collinearity before modeling).\n",
    "\n",
    "*example*:\n",
    "```python\n",
    "sns.heatmap(df.corr())\n",
    "```\n",
    "\n",
    "Please take time to format your output, adding a title. Look through some of the additional arguments and options. (Axis labels aren't really necessary, as long as the title is informative)."
   ]
  },
  {
   "cell_type": "code",
   "execution_count": 54,
   "metadata": {},
   "outputs": [
    {
     "data": {
      "text/plain": [
       "Text(0.45, 0.95, 'SAT and ACT scores and participation for 2017 and 2018 ')"
      ]
     },
     "execution_count": 54,
     "metadata": {},
     "output_type": "execute_result"
    },
    {
     "data": {
      "image/png": "[encoded data removed]",
      "text/plain": [
       "<Figure size 2304x1440 with 2 Axes>"
      ]
     },
     "metadata": {
      "needs_background": "light"
     },
     "output_type": "display_data"
    }
   ],
   "source": [
    "plt.figure(figsize = (32,20))\n",
    "\n",
    "sns.heatmap(final_df.corr(), linewidths=0.1, linecolor='white', cmap='RdBu')\n",
    "\n",
    "plt.title('SAT and ACT scores and participation for 2017 and 2018 ', fontsize=50, x=0.45, y=0.95)"
   ]
  },
  {
   "cell_type": "markdown",
   "metadata": {},
   "source": [
    "#### Define a custom function to subplot histograms\n",
    "\n",
    "We have data for two tests for two years. We only have composite (and not subtest scores) for the 2018 ACT. We should write a function that will take the names of 2+ columns and subplot histograms. While you can use pandas plotting or Seaborn here, matplotlib gives you greater control over all aspects of your plots.\n",
    "\n",
    "[Helpful Link for Plotting Multiple Figures](https://matplotlib.org/users/pyplot_tutorial.html#working-with-multiple-figures-and-axes)\n",
    "\n",
    "Here's some starter code:"
   ]
  },
  {
   "cell_type": "code",
   "execution_count": 55,
   "metadata": {},
   "outputs": [],
   "source": [
    "def subplot_histograms(dataframe, list_of_columns, list_of_titles, list_of_xlabels, list_of_colors):\n",
    "    nrows = int(np.ceil(len(list_of_columns)/2)) # Makes sure you have enough rows\n",
    "    fig, ax = plt.subplots(nrows=nrows, ncols=2, figsize=(18,15)) # You'll want to specify your figsize\n",
    "    plt.grid(b=True, which='major', color='#666666', linestyle='-') \n",
    "    ax = ax.ravel() # Ravel turns a matrix into a vector, which is easier to iterate\n",
    "    for i, column in enumerate(list_of_columns): # Gives us an index value to get into all our lists\n",
    "        ax[i].hist(dataframe[column], color=list_of_colors[i]) # feel free to add more settings\n",
    "        ax[i].set_xlabel(list_of_xlabels[i], fontsize=16)\n",
    "        ax[i].set_title(list_of_titles[i], fontsize=28)# Set titles, labels, etc here for each subplot\n",
    "        "
   ]
  },
  {
   "cell_type": "markdown",
   "metadata": {},
   "source": [
    "#### Plot and interpret histograms \n",
    "For each of the following:\n",
    "- Participation rates for SAT & ACT\n",
    "- Math scores for SAT & ACT\n",
    "- Reading/verbal scores for SAT & ACT"
   ]
  },
  {
   "cell_type": "code",
   "execution_count": 56,
   "metadata": {},
   "outputs": [
    {
     "data": {
      "image/png": "[encoded data removed]",
      "text/plain": [
       "<Figure size 1296x1080 with 4 Axes>"
      ]
     },
     "metadata": {
      "needs_background": "light"
     },
     "output_type": "display_data"
    }
   ],
   "source": [
    "# Code SAT and ACT participation rates\n",
    "subplot_histograms(final_df, \n",
    "                   ['2017_sat_participation','2018_sat_participation','2017_act_participation','2018_act_participation'], \n",
    "                   ['2017 SAT participation by state','2018 SAT participation by state','2017 ACT participation by state','2018 ACT participation by state'], \n",
    "                   ['Participation rate (1 indicates full participation)','Participation rate (1 indicates full participation)','Participation rate (1 indicates full participation)','Participation rate (1 indicates full participation)'],\n",
    "                   ['#4682B4', '#4682B4', '#B22222', '#B22222'])\n",
    "plt.tight_layout(pad=0.4, w_pad=1, h_pad=2.0)"
   ]
  },
  {
   "cell_type": "markdown",
   "metadata": {},
   "source": [
    "Participation rates in ACT are higher, with more states having 100% participation in ACT than in SAT. Participation below 10% is also much more prevalent in SAT than in ACT. \n",
    "\n",
    "However, participation in SAT picked up in 2018, with more states achieving 100% participation and fewer states with less than 10% participation. \n",
    "\n",
    "It is important to note that though more states have 100% participation in ACT for both years, [the SAT became the most widely used college admissions test in 2018](https://www.washingtonpost.com/education/2018/10/23/sat-reclaims-title-most-widely-used-college-admission-test/?noredirect=on&utm_term=.8cb996e56424) for the first time since it lost that position to the ACT in 2012. This is possible because the states where the ACT is popular are less populated than the states where the SAT is favored. "
   ]
  },
  {
   "cell_type": "code",
   "execution_count": 57,
   "metadata": {},
   "outputs": [
    {
     "data": {
      "image/png": "[encoded data removed]",
      "text/plain": [
       "<Figure size 1296x1080 with 4 Axes>"
      ]
     },
     "metadata": {
      "needs_background": "light"
     },
     "output_type": "display_data"
    }
   ],
   "source": [
    "# Code SAT and ACT math scores\n",
    "subplot_histograms(final_df, \n",
    "                   ['2017_sat_math','2018_sat_math','2017_act_math','2018_act_math'], \n",
    "                   ['2017 SAT math score by state','2018 SAT math score by state','2017 ACT math score by state','2018 ACT match score by state'], \n",
    "                   ['SAT math score (min: 200, max: 800)','SAT math score (min: 200, max: 800)','ACT math score (min: 1, max: 36)','ACT math score (min: 1, max: 36)'],\n",
    "                   ['#539DC2', '#539DC2', '#FFCCCC','#FFCCCC'])\n",
    "plt.tight_layout(pad=0.4, w_pad=1, h_pad=2.0)"
   ]
  },
  {
   "cell_type": "markdown",
   "metadata": {},
   "source": [
    "There appears to be not much change in math performance between 2017 and 2018 for both tests. This is also no obvious difference in math performance between ACT and SAT takers. Although the SAT histograms show a more obvious peak than the ACT histograms, more exploration through other visualizations is required to draw a strong conclusion."
   ]
  },
  {
   "cell_type": "code",
   "execution_count": 58,
   "metadata": {},
   "outputs": [
    {
     "data": {
      "image/png": "[encoded data removed]",
      "text/plain": [
       "<Figure size 1296x1080 with 6 Axes>"
      ]
     },
     "metadata": {
      "needs_background": "light"
     },
     "output_type": "display_data"
    }
   ],
   "source": [
    "# Code SAT and ACT read/write, English, and reading scores\n",
    "subplot_histograms(final_df, \n",
    "                   ['2017_sat_read_write','2018_sat_read_write','2017_act_english','2018_act_english','2017_act_reading','2018_act_reading'], \n",
    "                   ['2017 SAT reading & writing score by state','2018 SAT reading & writing score by state','2017 ACT English score by state','2018 ACT English score by state','2017 ACT reading score by state','2018 ACT reading score by state'], \n",
    "                   ['SAT reading & writing score (min: 200, max: 800)','SAT reading & writing score (min: 200, max: 800)','ACT English score (min: 1, max: 36)','ACT English score (min: 1, max: 36)','ACT reading score (min: 1, max: 36)','ACT reading score (min: 1, max: 36)'],\n",
    "                   ['#67C8FF', '#67C8FF', '#E3170D', '#E3170D', '#9D1309', '#9D1309'])\n",
    "\n",
    "plt.tight_layout(pad=0.4, w_pad=1, h_pad=2)"
   ]
  },
  {
   "cell_type": "markdown",
   "metadata": {},
   "source": [
    "Again, there does not appear to be not much change in performance in the reading and writing, English, and reading sections between 2017 and 2018 for both tests. There seems to be more high performers in the SAT reading and writing section than in either the ACT English or reading sections. But because the histograms do not show an obvious trend, it is advisable to do more exploration through other visualizations if we want to reach a strong conclusion."
   ]
  },
  {
   "cell_type": "markdown",
   "metadata": {},
   "source": [
    "#### Plot and interpret scatter plots\n",
    "\n",
    "For each of the following:\n",
    "- SAT vs. ACT math scores for 2017\n",
    "- SAT vs. ACT verbal/reading scores for 2017\n",
    "- SAT vs. ACT total/composite scores for 2017\n",
    "- Total scores for SAT 2017 vs. 2018\n",
    "- Composite scores for ACT 2017 vs. 2018\n",
    "\n",
    "Plot the two variables against each other using matplotlib or Seaborn\n",
    "\n",
    "Your plots should show:\n",
    "- Two clearly labeled axes\n",
    "- A proper title\n",
    "- Using colors and symbols that are clear and unmistakable\n",
    "\n",
    "**Feel free to write a custom function, and subplot if you'd like.** Functions save both time and space.\n"
   ]
  },
  {
   "cell_type": "code",
   "execution_count": 59,
   "metadata": {},
   "outputs": [
    {
     "data": {
      "text/plain": [
       "Text(0.5, 1.0, 'SAT vs ACT math scores for 2017')"
      ]
     },
     "execution_count": 59,
     "metadata": {},
     "output_type": "execute_result"
    },
    {
     "data": {
      "image/png": "[encoded data removed]",
      "text/plain": [
       "<Figure size 1440x720 with 1 Axes>"
      ]
     },
     "metadata": {
      "needs_background": "light"
     },
     "output_type": "display_data"
    }
   ],
   "source": [
    "#SAT vs. ACT math scores for 2017\n",
    "fig, ax = plt.subplots(figsize=(20,10)) \n",
    "\n",
    "sns.scatterplot(x='2017_sat_math',y='2017_act_math',data=final_df, ax=ax)\n",
    "\n",
    "ax.set_xlabel('2017 SAT math', fontsize=16)\n",
    "ax.set_ylabel('2017 ACT math', fontsize=16)\n",
    "ax.set_title('SAT vs ACT math scores for 2017', fontsize=28)\n"
   ]
  },
  {
   "cell_type": "markdown",
   "metadata": {},
   "source": [
    "The plot shows a downward sloping trend, meaning that states that do well at SAT math tend to do worse at ACT math, and vice versa. This is logical as either the ACT or SAT is the main requirement in a state. For states where the ACT is required, ACT math scores reflect the general math ability of students in that state. Those who take the SAT in the same state choose to do so because they know they can do well and hence scores will be higher. States where the SAT is the requirement will see the reverse trend, with ACT math scores in the upper region while SAT math scores are in the lower region. "
   ]
  },
  {
   "cell_type": "code",
   "execution_count": 60,
   "metadata": {},
   "outputs": [
    {
     "data": {
      "image/png": "[encoded data removed]",
      "text/plain": [
       "<Figure size 1296x576 with 2 Axes>"
      ]
     },
     "metadata": {
      "needs_background": "light"
     },
     "output_type": "display_data"
    }
   ],
   "source": [
    "#Total scores for SAT 2017 vs 2018 next to Composite scores for ACT 2017 vs 2018\n",
    "\n",
    "fig, (ax1, ax2) = plt.subplots(ncols=2, figsize=(18,8)) \n",
    "\n",
    "sns.scatterplot(x='2017_sat_read_write',y='2017_act_english',data=final_df, ax=ax1)\n",
    "sns.scatterplot(x='2017_sat_read_write',y='2018_act_reading',data=final_df, ax=ax2)\n",
    "\n",
    "ax1.set_xlabel('2017 SAT read/write', fontsize=16)\n",
    "ax1.set_ylabel('2017 ACT English', fontsize=16)\n",
    "ax1.set_title('SAT read/write vs ACT English scores for 2017', fontsize=28)\n",
    "\n",
    "ax2.set_xlabel('2017 SAT read/write', fontsize=16)\n",
    "ax2.set_ylabel('2017 ACT reading', fontsize=16)\n",
    "ax2.set_title('SAT read/write vs ACT reading scores for 2017', fontsize=28)\n",
    "\n",
    "plt.tight_layout(pad=0.4, w_pad=1, h_pad=2.0)"
   ]
  },
  {
   "cell_type": "markdown",
   "metadata": {},
   "source": [
    "The graphs above show the SAT reading and writing results for 2017 plotted against the 2017 scores of the ACT English and ACT reading tests, both of which assess language ability. The two graphs show a downward sloping trend for reasons as described above.\n",
    "\n",
    "Viewing the graphs side by side, there is no major difference when comparing either the ACT English or ACT reading to the SAT reading and writing test. This suggests that those who do well on ACT English also tend to do well on ACT reading."
   ]
  },
  {
   "cell_type": "code",
   "execution_count": 61,
   "metadata": {},
   "outputs": [
    {
     "data": {
      "image/png": "[encoded data removed]",
      "text/plain": [
       "<Figure size 1296x576 with 2 Axes>"
      ]
     },
     "metadata": {
      "needs_background": "light"
     },
     "output_type": "display_data"
    }
   ],
   "source": [
    "#SAT vs ACT total/composite scores for 2017 and 2018\n",
    "\n",
    "fig, (ax1, ax2) = plt.subplots(ncols=2, figsize=(18,8)) \n",
    "\n",
    "sns.scatterplot(x='2017_sat_total',y='2017_act_composite',data=final_df, ax=ax1)\n",
    "sns.scatterplot(x='2018_sat_total',y='2018_act_composite',data=final_df, ax=ax2)\n",
    "\n",
    "ax1.set_xlabel('2017 SAT total', fontsize=16)\n",
    "ax1.set_ylabel('2017 ACT composite', fontsize=16)\n",
    "ax1.set_title('SAT total vs ACT composite scores for 2017', fontsize=28)\n",
    "\n",
    "ax2.set_xlabel('2018 SAT total', fontsize=16)\n",
    "ax2.set_ylabel('2018 ACT composite', fontsize=16)\n",
    "ax2.set_title('SAT total vs ACT composite scores for 2018', fontsize=28)\n",
    "\n",
    "plt.tight_layout(pad=0.4, w_pad=1, h_pad=2.0)"
   ]
  },
  {
   "cell_type": "markdown",
   "metadata": {},
   "source": [
    "Comparing SAT total and ACT composite scores, we again see a downward sloping trend for both years, because of the reason stated above: one test is usually the requirement in the state, and those who take the other have chosen to do so. "
   ]
  },
  {
   "cell_type": "code",
   "execution_count": 62,
   "metadata": {},
   "outputs": [
    {
     "data": {
      "image/png": "[encoded data removed]",
      "text/plain": [
       "<Figure size 1296x576 with 2 Axes>"
      ]
     },
     "metadata": {
      "needs_background": "light"
     },
     "output_type": "display_data"
    }
   ],
   "source": [
    "#Total scores for SAT 2017 vs 2018 next to composite scores for ACT 2017 vs 2018'\n",
    "\n",
    "fig, (ax1, ax2) = plt.subplots(ncols=2, figsize=(18,8)) \n",
    "\n",
    "sns.scatterplot(x='2017_sat_total',y='2018_sat_total',data=final_df, ax=ax1)\n",
    "sns.scatterplot(x='2017_act_composite',y='2018_act_composite',data=final_df, ax=ax2)\n",
    "\n",
    "ax1.set_xlabel('2017 SAT total', fontsize=16)\n",
    "ax1.set_ylabel('2018 SAT total', fontsize=16)\n",
    "ax1.set_title('Total scores for SAT 2017 vs 2018', fontsize=28)\n",
    "\n",
    "ax2.set_xlabel('2017 ACT composite', fontsize=16)\n",
    "ax2.set_xlabel('2017 ACT composite', fontsize=16)\n",
    "ax2.set_ylabel('2018 ACT composite', fontsize=16)\n",
    "ax2.set_title('Composite scores for ACT 2017 vs 2018', fontsize=28)\n",
    "\n",
    "plt.tight_layout(pad=0.4, w_pad=1, h_pad=2.0)"
   ]
  },
  {
   "cell_type": "markdown",
   "metadata": {},
   "source": [
    "Year-to-year SAT total scores comparison shows a generally linear trend, meaning that states scored close to how they did the previous year. There are some data points below the trend line, indicating that several states' performances worsened in 2018 significantly. In particular, one state went from about 1200 in 2017 to less than 1050 in 2018.\n",
    "It is notable that no states improved significantly enough to appear significantly above the trend line.\n",
    "\n",
    "Year-to-year ACT composite scores comparison display a similar trend line showing that states also scored close to how they did the previous year. However, the ACT plot appears to show fewer states significantly below the trend line. Moreover, there are states that improved performance such that they appear significantly above the trend line."
   ]
  },
  {
   "cell_type": "markdown",
   "metadata": {},
   "source": [
    "#### Plot and interpret boxplots\n",
    "\n",
    "For each numeric variable in the dataframe create a boxplot using Seaborn. Boxplots demonstrate central tendency and spread in variables. In a certain sense, these are somewhat redundant with histograms, but you may be better able to identify clear outliers or differences in IQR, etc.\n",
    "\n",
    "Multiple values can be plotted to a single boxplot as long as they are of the same relative scale (meaning they have similar min/max values).\n",
    "\n",
    "Each boxplot should:\n",
    "- Only include variables of a similar scale\n",
    "- Have clear labels for each variable\n",
    "- Have appropriate titles and labels"
   ]
  },
  {
   "cell_type": "code",
   "execution_count": 63,
   "metadata": {},
   "outputs": [],
   "source": [
    "def box_plotter(list_of_columns, list_of_colors, title, xlabel, ylabel):\n",
    "    plt.figure(figsize=(18,10))\n",
    "    participation = sns.boxplot(data=final_df[list_of_columns])\n",
    "    for i, column in enumerate(list_of_columns):\n",
    "        participation.artists[i].set_facecolor(list_of_colors[i])\n",
    "    plt.title(title, fontsize=28)\n",
    "    plt.xlabel(xlabel, fontsize=16)\n",
    "    plt.ylabel(ylabel, fontsize=16)"
   ]
  },
  {
   "cell_type": "code",
   "execution_count": 64,
   "metadata": {},
   "outputs": [
    {
     "data": {
      "image/png": "[encoded data removed]",
      "text/plain": [
       "<Figure size 1296x720 with 1 Axes>"
      ]
     },
     "metadata": {
      "needs_background": "light"
     },
     "output_type": "display_data"
    }
   ],
   "source": [
    "#Participation rates in SAT and ACT for 2017 and 2018\n",
    "box_plotter(['2017_sat_participation', '2017_act_participation', '2018_sat_participation', '2018_act_participation'],\n",
    "             ['#4682B4','#B22222','#4682B4','#B22222'],\n",
    "             'Participation rates in SAT and ACT for 2017 and 2018',\n",
    "             'Year and test',\n",
    "             'Participation rate')"
   ]
  },
  {
   "cell_type": "markdown",
   "metadata": {},
   "source": [
    "More states have higher ACT participation rates than SAT participation rates. ACT median is above 60% for both years. There are no upper whiskers for ACT boxplots because the upper quartile is at the maximum 100% participation. Indeed, about one-thirds of states had 100% ACT participation in 2017 and 2018.\n",
    "\n",
    "Still, SAT median did improve from below 40% in 2017 to mid-50% in 2018, and the 75th percentile improved from below 70% to almost 80%. \n",
    "\n",
    "It is important to note that though more states have 100% participation in ACT for both years, [the SAT became the most widely used college admissions test in 2018](https://www.washingtonpost.com/education/2018/10/23/sat-reclaims-title-most-widely-used-college-admission-test/?noredirect=on&utm_term=.8cb996e56424) for the first time since it lost that position to the ACT in 2012. This is possible because the states where the ACT is popular are less populated than the states where the SAT is favored."
   ]
  },
  {
   "cell_type": "code",
   "execution_count": 65,
   "metadata": {},
   "outputs": [
    {
     "data": {
      "image/png": "[encoded data removed]",
      "text/plain": [
       "<Figure size 1296x720 with 1 Axes>"
      ]
     },
     "metadata": {
      "needs_background": "light"
     },
     "output_type": "display_data"
    }
   ],
   "source": [
    "#SAT math and read/write scores for 2017 and 2018\n",
    "box_plotter(['2017_sat_math', '2017_sat_read_write', '2018_sat_math', '2018_sat_read_write'],\n",
    "             ['#539DC2','#67C8FF','#539DC2','#67C8FF'],\n",
    "             'SAT math and read/write scores for 2017 and 2018',\n",
    "             'Year and SAT section',\n",
    "             'Score')"
   ]
  },
  {
   "cell_type": "markdown",
   "metadata": {},
   "source": [
    "Students did better in the SAT reading and writing section than the math section for both years. But reading and writing performance dipped in 2018, with a visible lowering of the median. Math performance is consistent across both years, with very similar interquartile ranges."
   ]
  },
  {
   "cell_type": "code",
   "execution_count": 66,
   "metadata": {},
   "outputs": [
    {
     "data": {
      "image/png": "[encoded data removed]",
      "text/plain": [
       "<Figure size 1296x720 with 1 Axes>"
      ]
     },
     "metadata": {
      "needs_background": "light"
     },
     "output_type": "display_data"
    }
   ],
   "source": [
    "#SAT math and read/write scores for 2017 and 2018\n",
    "box_plotter(['2017_act_math', '2017_act_science', '2017_act_english', '2017_act_reading','2018_act_math', '2018_act_science', '2018_act_english', '2018_act_reading'],\n",
    "             ['#FFCCCC','#C65D57','#E3170D','#9D1309','#FFCCCC','#C65D57','#E3170D','#9D1309'],\n",
    "             'ACT section scores for 2017 and 2018',\n",
    "             'Year and ACT section',\n",
    "             'Score')"
   ]
  },
  {
   "cell_type": "markdown",
   "metadata": {},
   "source": [
    "Students' performance in the reading section is the best, with the highest median and maximum for both years. It is interesting to note that the English median is lower than the math and science medians for both years, suggesting that the English and reading sections are significantly different despite both being about language ability. \n",
    "\n",
    "Performance is largely consistent across both years, with the exception of a noticeable dip in the median for reading. "
   ]
  },
  {
   "cell_type": "code",
   "execution_count": 67,
   "metadata": {},
   "outputs": [
    {
     "data": {
      "image/png": "[encoded data removed]",
      "text/plain": [
       "<Figure size 1296x720 with 1 Axes>"
      ]
     },
     "metadata": {
      "needs_background": "light"
     },
     "output_type": "display_data"
    }
   ],
   "source": [
    "# SAT total scores for 2017 and 2018\n",
    "box_plotter(['2017_sat_total', '2018_sat_total'],\n",
    "             ['#539DC2','#67C8FF'],\n",
    "             'SAT total scores for 2017 and 2018',\n",
    "             'Year',\n",
    "             'SAT Score')"
   ]
  },
  {
   "cell_type": "markdown",
   "metadata": {},
   "source": [
    "The biggest change for SAT total scores is in the first quartile, with both a higher minimum and higher 25th percentile. Although the median dipped a little, the 75th percentile and the maximum both rose slightly. "
   ]
  },
  {
   "cell_type": "code",
   "execution_count": 68,
   "metadata": {},
   "outputs": [
    {
     "data": {
      "image/png": "[encoded data removed]",
      "text/plain": [
       "<Figure size 1296x720 with 1 Axes>"
      ]
     },
     "metadata": {
      "needs_background": "light"
     },
     "output_type": "display_data"
    }
   ],
   "source": [
    "# ACT composite scores for 2017 and 2018\n",
    "box_plotter(['2017_act_composite', '2018_act_composite'],\n",
    "             ['#FFCCCC','#C65D57'],\n",
    "             'ACT composite scores for 2017 and 2018',\n",
    "             'Year',\n",
    "             'SAT Score')"
   ]
  },
  {
   "cell_type": "markdown",
   "metadata": {},
   "source": [
    "ACT composite scores are largely consistent across both years. While the 25th percentile and the maximum rose slightly in 2018, the minimum also dipped in the same year."
   ]
  },
  {
   "cell_type": "markdown",
   "metadata": {},
   "source": [
    "#### Feel free to do additional plots below\n",
    "*(do research and choose your own chart types & variables)*\n",
    "\n",
    "Are there any additional trends or relationships you haven't explored? Was there something interesting you saw that you'd like to dive further into? It's likely that there are a few more plots you might want to generate to support your narrative and recommendations that you are building toward. **As always, make sure you're interpreting your plots as you go**."
   ]
  },
  {
   "cell_type": "markdown",
   "metadata": {},
   "source": [
    "#### (Optional): Using Tableau, create a choropleth map for each variable using a map of the US. \n",
    "\n",
    "Save this plot as an image file in an images directory, provide a relative path, and insert the image into notebook in markdown."
   ]
  },
  {
   "cell_type": "markdown",
   "metadata": {},
   "source": [
    "As participation rates are the main variables analyzed, four maps representing SAT and ACT participation rates in 2017 and 2018 have been produced."
   ]
  },
  {
   "cell_type": "markdown",
   "metadata": {},
   "source": [
    "![SAT and ACT participation 2017 and 2018](../images/sat_act_participation_2017_2018.png \"SAT and ACT participation 2017 and 2018\")"
   ]
  },
  {
   "cell_type": "markdown",
   "metadata": {},
   "source": [
    "From the map visualizations, again we see the stark increase in SAT participation from 2017 to 2018."
   ]
  },
  {
   "cell_type": "markdown",
   "metadata": {},
   "source": [
    "## Descriptive and Inferential Statistics"
   ]
  },
  {
   "cell_type": "markdown",
   "metadata": {},
   "source": [
    "#### Summarizing Distributions\n",
    "\n",
    "Above, we used pandas `describe` to provide quick summary statistics of our numeric columns. We also demonstrated many visual relationships.\n",
    "\n",
    "As data scientists, having a complete understanding of data is imperative prior to modeling.\n",
    "\n",
    "While we will continue to build our analytic tools, we know that measures of *central tendency*, *spread*, and *shape/skewness* provide a quick summary of distributions.\n",
    "\n",
    "For each variable in your data, summarize the underlying distributions (in words & statistics)\n",
    " - Be thorough in your verbal description of these distributions.\n",
    " - Be sure to back up these summaries with statistics."
   ]
  },
  {
   "cell_type": "code",
   "execution_count": 69,
   "metadata": {},
   "outputs": [
    {
     "data": {
      "text/html": [
       "<div>\n",
       "<style scoped>\n",
       "    .dataframe tbody tr th:only-of-type {\n",
       "        vertical-align: middle;\n",
       "    }\n",
       "\n",
       "    .dataframe tbody tr th {\n",
       "        vertical-align: top;\n",
       "    }\n",
       "\n",
       "    .dataframe thead th {\n",
       "        text-align: right;\n",
       "    }\n",
       "</style>\n",
       "<table border=\"1\" class=\"dataframe\">\n",
       "  <thead>\n",
       "    <tr style=\"text-align: right;\">\n",
       "      <th></th>\n",
       "      <th>2017_sat_participation</th>\n",
       "      <th>2017_act_participation</th>\n",
       "      <th>2018_sat_participation</th>\n",
       "      <th>2018_act_participation</th>\n",
       "    </tr>\n",
       "  </thead>\n",
       "  <tbody>\n",
       "    <tr>\n",
       "      <th>count</th>\n",
       "      <td>51.000000</td>\n",
       "      <td>51.000000</td>\n",
       "      <td>51.000000</td>\n",
       "      <td>51.000000</td>\n",
       "    </tr>\n",
       "    <tr>\n",
       "      <th>mean</th>\n",
       "      <td>0.398039</td>\n",
       "      <td>0.652549</td>\n",
       "      <td>0.466275</td>\n",
       "      <td>0.616471</td>\n",
       "    </tr>\n",
       "    <tr>\n",
       "      <th>std</th>\n",
       "      <td>0.352766</td>\n",
       "      <td>0.321408</td>\n",
       "      <td>0.380142</td>\n",
       "      <td>0.340810</td>\n",
       "    </tr>\n",
       "    <tr>\n",
       "      <th>min</th>\n",
       "      <td>0.020000</td>\n",
       "      <td>0.080000</td>\n",
       "      <td>0.020000</td>\n",
       "      <td>0.070000</td>\n",
       "    </tr>\n",
       "    <tr>\n",
       "      <th>25%</th>\n",
       "      <td>0.040000</td>\n",
       "      <td>0.310000</td>\n",
       "      <td>0.045000</td>\n",
       "      <td>0.285000</td>\n",
       "    </tr>\n",
       "    <tr>\n",
       "      <th>50%</th>\n",
       "      <td>0.380000</td>\n",
       "      <td>0.690000</td>\n",
       "      <td>0.520000</td>\n",
       "      <td>0.660000</td>\n",
       "    </tr>\n",
       "    <tr>\n",
       "      <th>75%</th>\n",
       "      <td>0.660000</td>\n",
       "      <td>1.000000</td>\n",
       "      <td>0.795000</td>\n",
       "      <td>1.000000</td>\n",
       "    </tr>\n",
       "    <tr>\n",
       "      <th>max</th>\n",
       "      <td>1.000000</td>\n",
       "      <td>1.000000</td>\n",
       "      <td>1.000000</td>\n",
       "      <td>1.000000</td>\n",
       "    </tr>\n",
       "  </tbody>\n",
       "</table>\n",
       "</div>"
      ],
      "text/plain": [
       "       2017_sat_participation  2017_act_participation  2018_sat_participation  \\\n",
       "count               51.000000               51.000000               51.000000   \n",
       "mean                 0.398039                0.652549                0.466275   \n",
       "std                  0.352766                0.321408                0.380142   \n",
       "min                  0.020000                0.080000                0.020000   \n",
       "25%                  0.040000                0.310000                0.045000   \n",
       "50%                  0.380000                0.690000                0.520000   \n",
       "75%                  0.660000                1.000000                0.795000   \n",
       "max                  1.000000                1.000000                1.000000   \n",
       "\n",
       "       2018_act_participation  \n",
       "count               51.000000  \n",
       "mean                 0.616471  \n",
       "std                  0.340810  \n",
       "min                  0.070000  \n",
       "25%                  0.285000  \n",
       "50%                  0.660000  \n",
       "75%                  1.000000  \n",
       "max                  1.000000  "
      ]
     },
     "execution_count": 69,
     "metadata": {},
     "output_type": "execute_result"
    }
   ],
   "source": [
    "#participation rate statistics\n",
    "final_df[['2017_sat_participation','2017_act_participation','2018_sat_participation','2018_act_participation']].describe()"
   ]
  },
  {
   "cell_type": "markdown",
   "metadata": {},
   "source": [
    "#### Participation rate statistics\n",
    "\n",
    "SAT central tendency for 2017(mean: 0.398039, median: 0.380000) shifted significantly to the right in 2018(mean: 0.466275, median: 0.520000).\n",
    "\n",
    "ACT central tendency for 2017(mean: 0.652549, median: 0.690000) did not shift as much in 2018(mean: 0.616471, median: 0.660000). The mode for both years is also 1.00.\n",
    "\n",
    "The spreads for all variables are high, with standard deviations above 0.30 and ranges that cover almost all possible values. "
   ]
  },
  {
   "cell_type": "code",
   "execution_count": 70,
   "metadata": {},
   "outputs": [
    {
     "data": {
      "text/html": [
       "<div>\n",
       "<style scoped>\n",
       "    .dataframe tbody tr th:only-of-type {\n",
       "        vertical-align: middle;\n",
       "    }\n",
       "\n",
       "    .dataframe tbody tr th {\n",
       "        vertical-align: top;\n",
       "    }\n",
       "\n",
       "    .dataframe thead th {\n",
       "        text-align: right;\n",
       "    }\n",
       "</style>\n",
       "<table border=\"1\" class=\"dataframe\">\n",
       "  <thead>\n",
       "    <tr style=\"text-align: right;\">\n",
       "      <th></th>\n",
       "      <th>2017_sat_math</th>\n",
       "      <th>2017_sat_read_write</th>\n",
       "      <th>2018_sat_math</th>\n",
       "      <th>2018_sat_read_write</th>\n",
       "    </tr>\n",
       "  </thead>\n",
       "  <tbody>\n",
       "    <tr>\n",
       "      <th>count</th>\n",
       "      <td>51.000000</td>\n",
       "      <td>51.000000</td>\n",
       "      <td>51.000000</td>\n",
       "      <td>51.000000</td>\n",
       "    </tr>\n",
       "    <tr>\n",
       "      <th>mean</th>\n",
       "      <td>556.882353</td>\n",
       "      <td>569.117647</td>\n",
       "      <td>557.254902</td>\n",
       "      <td>567.294118</td>\n",
       "    </tr>\n",
       "    <tr>\n",
       "      <th>std</th>\n",
       "      <td>47.121395</td>\n",
       "      <td>45.666901</td>\n",
       "      <td>48.887562</td>\n",
       "      <td>45.317676</td>\n",
       "    </tr>\n",
       "    <tr>\n",
       "      <th>min</th>\n",
       "      <td>468.000000</td>\n",
       "      <td>482.000000</td>\n",
       "      <td>480.000000</td>\n",
       "      <td>497.000000</td>\n",
       "    </tr>\n",
       "    <tr>\n",
       "      <th>25%</th>\n",
       "      <td>523.500000</td>\n",
       "      <td>533.500000</td>\n",
       "      <td>521.500000</td>\n",
       "      <td>535.000000</td>\n",
       "    </tr>\n",
       "    <tr>\n",
       "      <th>50%</th>\n",
       "      <td>548.000000</td>\n",
       "      <td>559.000000</td>\n",
       "      <td>547.000000</td>\n",
       "      <td>552.000000</td>\n",
       "    </tr>\n",
       "    <tr>\n",
       "      <th>75%</th>\n",
       "      <td>599.000000</td>\n",
       "      <td>613.000000</td>\n",
       "      <td>600.500000</td>\n",
       "      <td>616.500000</td>\n",
       "    </tr>\n",
       "    <tr>\n",
       "      <th>max</th>\n",
       "      <td>651.000000</td>\n",
       "      <td>644.000000</td>\n",
       "      <td>655.000000</td>\n",
       "      <td>643.000000</td>\n",
       "    </tr>\n",
       "  </tbody>\n",
       "</table>\n",
       "</div>"
      ],
      "text/plain": [
       "       2017_sat_math  2017_sat_read_write  2018_sat_math  2018_sat_read_write\n",
       "count      51.000000            51.000000      51.000000            51.000000\n",
       "mean      556.882353           569.117647     557.254902           567.294118\n",
       "std        47.121395            45.666901      48.887562            45.317676\n",
       "min       468.000000           482.000000     480.000000           497.000000\n",
       "25%       523.500000           533.500000     521.500000           535.000000\n",
       "50%       548.000000           559.000000     547.000000           552.000000\n",
       "75%       599.000000           613.000000     600.500000           616.500000\n",
       "max       651.000000           644.000000     655.000000           643.000000"
      ]
     },
     "execution_count": 70,
     "metadata": {},
     "output_type": "execute_result"
    }
   ],
   "source": [
    "#SAT math and read/write statistics \n",
    "final_df[['2017_sat_math', '2017_sat_read_write', '2018_sat_math', '2018_sat_read_write']].describe()"
   ]
  },
  {
   "cell_type": "markdown",
   "metadata": {},
   "source": [
    "#### SAT section scores statistics\n",
    "\n",
    "SAT math central tendency for 2017 is to slightly to the right(mean: 556.882353, median: 548.000000), and remained steady in 2018(mean: 557.254902, median: 547.000000).\n",
    "\n",
    "SAT read/write central tendencies are to the right for 2017(mean: 569.117647, median: 559.000000) and 2018(mean: 567.294118, median: 552.000000).\n",
    "\n",
    "The ranges for all variables are between 450 and 655, with standard deviations between 45 and 49. "
   ]
  },
  {
   "cell_type": "code",
   "execution_count": 71,
   "metadata": {},
   "outputs": [
    {
     "data": {
      "text/html": [
       "<div>\n",
       "<style scoped>\n",
       "    .dataframe tbody tr th:only-of-type {\n",
       "        vertical-align: middle;\n",
       "    }\n",
       "\n",
       "    .dataframe tbody tr th {\n",
       "        vertical-align: top;\n",
       "    }\n",
       "\n",
       "    .dataframe thead th {\n",
       "        text-align: right;\n",
       "    }\n",
       "</style>\n",
       "<table border=\"1\" class=\"dataframe\">\n",
       "  <thead>\n",
       "    <tr style=\"text-align: right;\">\n",
       "      <th></th>\n",
       "      <th>2017_act_math</th>\n",
       "      <th>2017_act_science</th>\n",
       "      <th>2017_act_english</th>\n",
       "      <th>2017_act_reading</th>\n",
       "      <th>2018_act_math</th>\n",
       "      <th>2018_act_science</th>\n",
       "      <th>2018_act_english</th>\n",
       "      <th>2018_act_reading</th>\n",
       "    </tr>\n",
       "  </thead>\n",
       "  <tbody>\n",
       "    <tr>\n",
       "      <th>count</th>\n",
       "      <td>51.000000</td>\n",
       "      <td>51.000000</td>\n",
       "      <td>51.000000</td>\n",
       "      <td>51.000000</td>\n",
       "      <td>51.000000</td>\n",
       "      <td>51.000000</td>\n",
       "      <td>51.000000</td>\n",
       "      <td>51.000000</td>\n",
       "    </tr>\n",
       "    <tr>\n",
       "      <th>mean</th>\n",
       "      <td>21.182353</td>\n",
       "      <td>21.450980</td>\n",
       "      <td>20.931373</td>\n",
       "      <td>22.013725</td>\n",
       "      <td>21.125490</td>\n",
       "      <td>21.341176</td>\n",
       "      <td>20.988235</td>\n",
       "      <td>22.033333</td>\n",
       "    </tr>\n",
       "    <tr>\n",
       "      <th>std</th>\n",
       "      <td>1.981989</td>\n",
       "      <td>1.739353</td>\n",
       "      <td>2.353677</td>\n",
       "      <td>2.067271</td>\n",
       "      <td>2.035765</td>\n",
       "      <td>1.870206</td>\n",
       "      <td>2.446356</td>\n",
       "      <td>2.164132</td>\n",
       "    </tr>\n",
       "    <tr>\n",
       "      <th>min</th>\n",
       "      <td>18.000000</td>\n",
       "      <td>18.200000</td>\n",
       "      <td>16.300000</td>\n",
       "      <td>18.100000</td>\n",
       "      <td>17.800000</td>\n",
       "      <td>17.900000</td>\n",
       "      <td>16.600000</td>\n",
       "      <td>18.000000</td>\n",
       "    </tr>\n",
       "    <tr>\n",
       "      <th>25%</th>\n",
       "      <td>19.400000</td>\n",
       "      <td>19.950000</td>\n",
       "      <td>19.000000</td>\n",
       "      <td>20.450000</td>\n",
       "      <td>19.400000</td>\n",
       "      <td>19.850000</td>\n",
       "      <td>19.100000</td>\n",
       "      <td>20.450000</td>\n",
       "    </tr>\n",
       "    <tr>\n",
       "      <th>50%</th>\n",
       "      <td>20.900000</td>\n",
       "      <td>21.300000</td>\n",
       "      <td>20.700000</td>\n",
       "      <td>21.800000</td>\n",
       "      <td>20.700000</td>\n",
       "      <td>21.100000</td>\n",
       "      <td>20.200000</td>\n",
       "      <td>21.700000</td>\n",
       "    </tr>\n",
       "    <tr>\n",
       "      <th>75%</th>\n",
       "      <td>23.100000</td>\n",
       "      <td>23.200000</td>\n",
       "      <td>23.300000</td>\n",
       "      <td>24.150000</td>\n",
       "      <td>23.150000</td>\n",
       "      <td>23.050000</td>\n",
       "      <td>23.700000</td>\n",
       "      <td>24.100000</td>\n",
       "    </tr>\n",
       "    <tr>\n",
       "      <th>max</th>\n",
       "      <td>25.300000</td>\n",
       "      <td>24.900000</td>\n",
       "      <td>25.500000</td>\n",
       "      <td>26.000000</td>\n",
       "      <td>25.200000</td>\n",
       "      <td>24.900000</td>\n",
       "      <td>26.000000</td>\n",
       "      <td>26.100000</td>\n",
       "    </tr>\n",
       "  </tbody>\n",
       "</table>\n",
       "</div>"
      ],
      "text/plain": [
       "       2017_act_math  2017_act_science  2017_act_english  2017_act_reading  \\\n",
       "count      51.000000         51.000000         51.000000         51.000000   \n",
       "mean       21.182353         21.450980         20.931373         22.013725   \n",
       "std         1.981989          1.739353          2.353677          2.067271   \n",
       "min        18.000000         18.200000         16.300000         18.100000   \n",
       "25%        19.400000         19.950000         19.000000         20.450000   \n",
       "50%        20.900000         21.300000         20.700000         21.800000   \n",
       "75%        23.100000         23.200000         23.300000         24.150000   \n",
       "max        25.300000         24.900000         25.500000         26.000000   \n",
       "\n",
       "       2018_act_math  2018_act_science  2018_act_english  2018_act_reading  \n",
       "count      51.000000         51.000000         51.000000         51.000000  \n",
       "mean       21.125490         21.341176         20.988235         22.033333  \n",
       "std         2.035765          1.870206          2.446356          2.164132  \n",
       "min        17.800000         17.900000         16.600000         18.000000  \n",
       "25%        19.400000         19.850000         19.100000         20.450000  \n",
       "50%        20.700000         21.100000         20.200000         21.700000  \n",
       "75%        23.150000         23.050000         23.700000         24.100000  \n",
       "max        25.200000         24.900000         26.000000         26.100000  "
      ]
     },
     "execution_count": 71,
     "metadata": {},
     "output_type": "execute_result"
    }
   ],
   "source": [
    "#ACT section score statistics \n",
    "final_df[['2017_act_math', '2017_act_science', '2017_act_english', '2017_act_reading', '2018_act_math', '2018_act_science', '2018_act_english', '2018_act_reading']].describe()"
   ]
  },
  {
   "cell_type": "markdown",
   "metadata": {},
   "source": [
    "#### ACT section scores statistics\n",
    "\n",
    "Central tendency for ACT sections are tightly clustered for both years(mean: 20.9-22, median: 20.2-21.8). \n",
    "\n",
    "Spreads for the eight variables are similar, with standard deviations between 1.8 and 2.4.  "
   ]
  },
  {
   "cell_type": "code",
   "execution_count": 72,
   "metadata": {},
   "outputs": [
    {
     "data": {
      "text/html": [
       "<div>\n",
       "<style scoped>\n",
       "    .dataframe tbody tr th:only-of-type {\n",
       "        vertical-align: middle;\n",
       "    }\n",
       "\n",
       "    .dataframe tbody tr th {\n",
       "        vertical-align: top;\n",
       "    }\n",
       "\n",
       "    .dataframe thead th {\n",
       "        text-align: right;\n",
       "    }\n",
       "</style>\n",
       "<table border=\"1\" class=\"dataframe\">\n",
       "  <thead>\n",
       "    <tr style=\"text-align: right;\">\n",
       "      <th></th>\n",
       "      <th>2017_sat_total</th>\n",
       "      <th>2018_sat_total</th>\n",
       "    </tr>\n",
       "  </thead>\n",
       "  <tbody>\n",
       "    <tr>\n",
       "      <th>count</th>\n",
       "      <td>51.000000</td>\n",
       "      <td>51.000000</td>\n",
       "    </tr>\n",
       "    <tr>\n",
       "      <th>mean</th>\n",
       "      <td>1126.098039</td>\n",
       "      <td>1124.666667</td>\n",
       "    </tr>\n",
       "    <tr>\n",
       "      <th>std</th>\n",
       "      <td>92.494812</td>\n",
       "      <td>93.868561</td>\n",
       "    </tr>\n",
       "    <tr>\n",
       "      <th>min</th>\n",
       "      <td>950.000000</td>\n",
       "      <td>977.000000</td>\n",
       "    </tr>\n",
       "    <tr>\n",
       "      <th>25%</th>\n",
       "      <td>1055.500000</td>\n",
       "      <td>1062.500000</td>\n",
       "    </tr>\n",
       "    <tr>\n",
       "      <th>50%</th>\n",
       "      <td>1107.000000</td>\n",
       "      <td>1099.000000</td>\n",
       "    </tr>\n",
       "    <tr>\n",
       "      <th>75%</th>\n",
       "      <td>1212.000000</td>\n",
       "      <td>1220.000000</td>\n",
       "    </tr>\n",
       "    <tr>\n",
       "      <th>max</th>\n",
       "      <td>1295.000000</td>\n",
       "      <td>1298.000000</td>\n",
       "    </tr>\n",
       "  </tbody>\n",
       "</table>\n",
       "</div>"
      ],
      "text/plain": [
       "       2017_sat_total  2018_sat_total\n",
       "count       51.000000       51.000000\n",
       "mean      1126.098039     1124.666667\n",
       "std         92.494812       93.868561\n",
       "min        950.000000      977.000000\n",
       "25%       1055.500000     1062.500000\n",
       "50%       1107.000000     1099.000000\n",
       "75%       1212.000000     1220.000000\n",
       "max       1295.000000     1298.000000"
      ]
     },
     "execution_count": 72,
     "metadata": {},
     "output_type": "execute_result"
    }
   ],
   "source": [
    "#SAT total score statistics \n",
    "final_df[['2017_sat_total', '2018_sat_total']].describe()"
   ]
  },
  {
   "cell_type": "markdown",
   "metadata": {},
   "source": [
    "#### SAT total  scores statistics\n",
    "\n",
    "Central tendency for 2017(mean: 1126.098039, median: 1107) and 2018 are close(mean: 1124.666667, median: 1124.666667).\n",
    "\n",
    "Spreads for 2017(standard deviation: 92.494812, range: 950-1295) and 2018(standard deviation: 93.868561, range: 977-1298) are also similar."
   ]
  },
  {
   "cell_type": "code",
   "execution_count": 73,
   "metadata": {},
   "outputs": [
    {
     "data": {
      "text/html": [
       "<div>\n",
       "<style scoped>\n",
       "    .dataframe tbody tr th:only-of-type {\n",
       "        vertical-align: middle;\n",
       "    }\n",
       "\n",
       "    .dataframe tbody tr th {\n",
       "        vertical-align: top;\n",
       "    }\n",
       "\n",
       "    .dataframe thead th {\n",
       "        text-align: right;\n",
       "    }\n",
       "</style>\n",
       "<table border=\"1\" class=\"dataframe\">\n",
       "  <thead>\n",
       "    <tr style=\"text-align: right;\">\n",
       "      <th></th>\n",
       "      <th>2017_act_composite</th>\n",
       "      <th>2018_act_composite</th>\n",
       "    </tr>\n",
       "  </thead>\n",
       "  <tbody>\n",
       "    <tr>\n",
       "      <th>count</th>\n",
       "      <td>51.000000</td>\n",
       "      <td>51.000000</td>\n",
       "    </tr>\n",
       "    <tr>\n",
       "      <th>mean</th>\n",
       "      <td>21.578431</td>\n",
       "      <td>21.498039</td>\n",
       "    </tr>\n",
       "    <tr>\n",
       "      <th>std</th>\n",
       "      <td>2.025173</td>\n",
       "      <td>2.117686</td>\n",
       "    </tr>\n",
       "    <tr>\n",
       "      <th>min</th>\n",
       "      <td>17.800000</td>\n",
       "      <td>17.700000</td>\n",
       "    </tr>\n",
       "    <tr>\n",
       "      <th>25%</th>\n",
       "      <td>19.800000</td>\n",
       "      <td>19.950000</td>\n",
       "    </tr>\n",
       "    <tr>\n",
       "      <th>50%</th>\n",
       "      <td>21.400000</td>\n",
       "      <td>21.300000</td>\n",
       "    </tr>\n",
       "    <tr>\n",
       "      <th>75%</th>\n",
       "      <td>23.600000</td>\n",
       "      <td>23.650000</td>\n",
       "    </tr>\n",
       "    <tr>\n",
       "      <th>max</th>\n",
       "      <td>25.500000</td>\n",
       "      <td>25.600000</td>\n",
       "    </tr>\n",
       "  </tbody>\n",
       "</table>\n",
       "</div>"
      ],
      "text/plain": [
       "       2017_act_composite  2018_act_composite\n",
       "count           51.000000           51.000000\n",
       "mean            21.578431           21.498039\n",
       "std              2.025173            2.117686\n",
       "min             17.800000           17.700000\n",
       "25%             19.800000           19.950000\n",
       "50%             21.400000           21.300000\n",
       "75%             23.600000           23.650000\n",
       "max             25.500000           25.600000"
      ]
     },
     "execution_count": 73,
     "metadata": {},
     "output_type": "execute_result"
    }
   ],
   "source": [
    "#ACT composite score statistics \n",
    "final_df[['2017_act_composite', '2018_act_composite']].describe()"
   ]
  },
  {
   "cell_type": "markdown",
   "metadata": {},
   "source": [
    "#### ACT composite  scores statistics\n",
    "\n",
    "Central tendency for 2017(mean: 21.519608, median: 21.4) and 2018 are close(mean: 21.498039, median: 21.300000).\n",
    "\n",
    "Spreads for 2017(standard deviation: 2.020695, range: 17.8-25.5) and 2018(standard deviation: 2.117686, range: 17.7-25.6) are also similar."
   ]
  },
  {
   "cell_type": "markdown",
   "metadata": {},
   "source": [
    "#### We generally assume that data we sample from a population will be normally distributed. Do we observe this trend?"
   ]
  },
  {
   "cell_type": "markdown",
   "metadata": {},
   "source": [
    "Answer: Judging by the histograms, the participation rates do not follow the normal distribution at all, and that is to be expected because participation is dictated by state regulations, resulting in many extremely low or extremely high values.  "
   ]
  },
  {
   "cell_type": "markdown",
   "metadata": {},
   "source": [
    "Does This Assumption Hold for:\n",
    "    - Math\n",
    "    - Reading\n",
    "    - Rates\n",
    "Explain your answers for each distribution and how you think this will affect estimates made from these data."
   ]
  },
  {
   "cell_type": "markdown",
   "metadata": {},
   "source": [
    "Answer: As explained above, the participation rates do not follow the normal distribution. \n",
    "\n",
    "The histograms for math and reading sections of both tests bear more resemblance to the normal distribution, but the shapes are still skewed to the left or right, with peaks that are not central or even multiple peaks. This could be due to the fact that many test takers are those who choose to do. They will likely be highly motivated and well prepared, producing a large number of high scorers and skewing the data to the right.  "
   ]
  },
  {
   "cell_type": "markdown",
   "metadata": {},
   "source": [
    "#### Estimate Limits of Data\n",
    "\n",
    "Suppose we only seek to understand the relationship between SAT and ACT participation rates in 2017. \n",
    "\n",
    "##### Does it make sense to conduct statistical inference given these data specifically? \n",
    "\n",
    "Why or why not?\n",
    "\n",
    "*(think about granularity, aggregation, the relationships between populations size & rates...consider the actual populations these data describe in answering this question)*"
   ]
  },
  {
   "cell_type": "markdown",
   "metadata": {},
   "source": [
    "Answer: We can conduct statistical inference but only for variables that are comparable. It will be most appropriate to compare the same variables across years as they will be on the same scale and we can estimate if the increase or decrease is statistically significant. Variables of the same class, for example 2017 SAT math and 2018 SAT math, can also be more confidently assumed to be following the same distribution, as shown in the histograms above."
   ]
  },
  {
   "cell_type": "markdown",
   "metadata": {},
   "source": [
    "##### Is it appropriate to compare *these* specific SAT and ACT math scores? \n",
    "\n",
    "Why or why not?"
   ]
  },
  {
   "cell_type": "markdown",
   "metadata": {},
   "source": [
    "Answer: Is is not appropriate because the SAT and ACT scores are on different scales (SAT:200-800, ACT:1-36)."
   ]
  },
  {
   "cell_type": "markdown",
   "metadata": {},
   "source": [
    "#### Statistical Evaluation of Distributions \n",
    "\n",
    "**If you feel it's appropriate**, using methods we discussed in class, run hypothesis tests to compare variables of interest in our dataset. "
   ]
  },
  {
   "cell_type": "markdown",
   "metadata": {},
   "source": [
    "### Experiment 1: On different performance between 2017 SAT math and 2018 SAT math scores\n",
    "\n",
    "---\n",
    "\n",
    "\n",
    "> **H0:** The difference in performance between 2017 SAT math score and 2018 SAT math score is 0.\n",
    "\n",
    "> **H1:** The difference in performance between 2017 SAT math score and 2018 SAT math score is not 0.\n",
    "\n",
    "Set $\\alpha$ = 0.05\n"
   ]
  },
  {
   "cell_type": "code",
   "execution_count": 74,
   "metadata": {},
   "outputs": [],
   "source": [
    "# Code: compare SAT math scores for 2017 and 2018\n",
    "\n",
    "sat_math_2017 = final_df['2017_sat_math'].to_numpy()\n",
    "sat_math_2018 = final_df['2018_sat_math'].to_numpy()"
   ]
  },
  {
   "cell_type": "code",
   "execution_count": 75,
   "metadata": {},
   "outputs": [
    {
     "data": {
      "text/plain": [
       "(-0.0391830543071512, 0.9688225636888137)"
      ]
     },
     "execution_count": 75,
     "metadata": {},
     "output_type": "execute_result"
    }
   ],
   "source": [
    "import scipy.stats as stats\n",
    "result = stats.ttest_ind(sat_math_2017, sat_math_2018)\n",
    "result.statistic, result.pvalue"
   ]
  },
  {
   "cell_type": "markdown",
   "metadata": {},
   "source": [
    "$p$ = 0.969\n",
    "\n",
    "Since $p > \\alpha$, there is insufficient evidence to reject the null hypothesis, and we conclude there is no statistical difference between 2017 SAT math and 2018 math performance."
   ]
  },
  {
   "cell_type": "markdown",
   "metadata": {},
   "source": [
    "### Experiment 2: On different performance between 2017 SAT read/write and 2018 SAT read/write scores\n",
    "\n",
    "---\n",
    "\n",
    "\n",
    "> **H0:** The difference in performance between 2017 SAT read/write score and 2018 SAT read/write score is 0.\n",
    "\n",
    "> **H1:** The difference in performance between 2017 SAT read/write score and 2018 SAT read/write score is not 0.\n",
    "\n",
    "Set $\\alpha$ = 0.05"
   ]
  },
  {
   "cell_type": "code",
   "execution_count": 76,
   "metadata": {},
   "outputs": [],
   "source": [
    "# Code: compare SAT math scores for 2017 and 2018\n",
    "\n",
    "sat_read_write_2017 = final_df['2017_sat_read_write'].to_numpy()\n",
    "sat_read_write_2018 = final_df['2018_sat_read_write'].to_numpy()"
   ]
  },
  {
   "cell_type": "code",
   "execution_count": 77,
   "metadata": {},
   "outputs": [
    {
     "data": {
      "text/plain": [
       "(0.2024146196266415, 0.8400038425905317)"
      ]
     },
     "execution_count": 77,
     "metadata": {},
     "output_type": "execute_result"
    }
   ],
   "source": [
    "result = stats.ttest_ind(sat_read_write_2017, sat_read_write_2018)\n",
    "result.statistic, result.pvalue"
   ]
  },
  {
   "cell_type": "markdown",
   "metadata": {},
   "source": [
    "$p$ = 0.840\n",
    "\n",
    "Since $p > \\alpha$, there is insufficient evidence to reject the null hypothesis, and we conclude there is no statistical difference between 2017 SAT read/write and 2018 read/write total performance."
   ]
  },
  {
   "cell_type": "markdown",
   "metadata": {},
   "source": [
    "### Experiment 3: On different performance between 2017 SAT total and 2018 SAT total scores\n",
    "\n",
    "---\n",
    "\n",
    "\n",
    "> **H0:** The difference in performance between 2017 SAT total score and 2018 SAT total score is 0.\n",
    "\n",
    "> **H1:** The difference in performance between 2017 SAT total score and 2018 SAT total score is not 0.\n",
    "\n",
    "Set $\\alpha$ = 0.05"
   ]
  },
  {
   "cell_type": "code",
   "execution_count": 78,
   "metadata": {},
   "outputs": [],
   "source": [
    "# Code: compare SAT total scores for 2017 and 2018 \n",
    "\n",
    "sat_total_2017 = final_df['2017_sat_total'].to_numpy()\n",
    "sat_total_2018 = final_df['2018_sat_total'].to_numpy()"
   ]
  },
  {
   "cell_type": "code",
   "execution_count": 79,
   "metadata": {},
   "outputs": [
    {
     "data": {
      "text/plain": [
       "(0.07756761006188564, 0.9383269993394229)"
      ]
     },
     "execution_count": 79,
     "metadata": {},
     "output_type": "execute_result"
    }
   ],
   "source": [
    "result = stats.ttest_ind(sat_total_2017, sat_total_2018)\n",
    "result.statistic, result.pvalue"
   ]
  },
  {
   "cell_type": "markdown",
   "metadata": {},
   "source": [
    "$p$ = 0.938\n",
    "\n",
    "Since $p > \\alpha$, there is insufficient evidence to reject the null hypothesis, and we conclude there is no statistical difference between 2017 SAT total and 2018 SAT total performance."
   ]
  },
  {
   "cell_type": "markdown",
   "metadata": {},
   "source": [
    "#### Conclusion on 2017 and 2018 SAT performance\n",
    "\n",
    "After running three experiments, we find there is no statistical difference between 2017 and 2018 SAT peformance, whether between individual sections or total score."
   ]
  },
  {
   "cell_type": "markdown",
   "metadata": {},
   "source": [
    "## Outside Research"
   ]
  },
  {
   "cell_type": "markdown",
   "metadata": {},
   "source": [
    "Based upon your observations, choose **three** states that demonstrate interesting trends in their SAT and/or ACT participation rates. Spend some time doing outside research on state policies that might influence these rates, and summarize your findings below. **Feel free to go back and create new plots that highlight these states of interest**. If you bring in any outside tables or charts, make sure you are explicit about having borrowed them. If you quote any text, make sure that it renders as being quoted. (Make sure that you cite your sources -- check with you local instructor for citation preferences)."
   ]
  },
  {
   "cell_type": "code",
   "execution_count": 80,
   "metadata": {},
   "outputs": [
    {
     "data": {
      "text/plain": [
       "<matplotlib.legend.Legend at 0x1a228da2b0>"
      ]
     },
     "execution_count": 80,
     "metadata": {},
     "output_type": "execute_result"
    },
    {
     "data": {
      "image/png": "[encoded data removed]",
      "text/plain": [
       "<Figure size 1296x720 with 1 Axes>"
      ]
     },
     "metadata": {
      "needs_background": "light"
     },
     "output_type": "display_data"
    }
   ],
   "source": [
    "#Colorado SAT and ACT participation rates for 2017 and 2018\n",
    "x = np.linspace(2017, 2018, 2)\n",
    "sat_part_colo = final_df[['2017_sat_participation','2018_sat_participation']].loc[5]\n",
    "act_part_colo = final_df[['2017_act_participation','2018_act_participation']].loc[5]\n",
    "fig, ax = plt.subplots(figsize=(18,10))\n",
    "\n",
    "ax.plot(x, sat_part_colo, color='#4682B4', linewidth=2.00, marker='o', markersize=10)\n",
    "ax.plot(x, act_part_colo, color='#B22222', linewidth=2.00, marker='s', markersize=10)\n",
    "\n",
    "plt.title('Colorado SAT and ACT participation rates for 2017 and 2018', fontsize=28)\n",
    "plt.xlabel('Year', fontsize=16)\n",
    "plt.ylabel('Participation rate', fontsize=16)\n",
    "plt.xticks((2017,2018))\n",
    "plt.legend(['SAT','ACT'])\n"
   ]
  },
  {
   "cell_type": "markdown",
   "metadata": {},
   "source": [
    "In 2017, all Colorado high school juniors, who would be high school graduates in 2018, [took the SAT](https://www.denverpost.com/2017/03/06/colorado-juniors-sat-college-exam/) as part of the state's transition away from the ACT that was years in the making. Colorado's Department of Education [chose the SAT in 2015](https://chalkbeat.org/posts/co/2015/12/23/goodbye-act-hello-sat-a-significant-change-for-colorado-high-schoolers/) after holding a competitive bid for college admission. This resulted in a steep spike in SAT participation from 11% in 2017 to 100% in 2018. Correspondingly, ACT participation plunged from 100% to 30%.\n",
    "\n",
    "The College Board, which adminsters the SAT, teamed up with training providers such as the Khan Academy, to provide free SAT preparation for Colorado students, [according to the Denver Post](https://www.denverpost.com/2017/03/06/colorado-juniors-sat-college-exam/). \n",
    "\n",
    "News articles cited above also mention the revamp of the SAT to be more relevant to the US education curriculum, which may have played a role in persuading states to try out a repackaged SAT."
   ]
  },
  {
   "cell_type": "code",
   "execution_count": 81,
   "metadata": {},
   "outputs": [
    {
     "data": {
      "text/plain": [
       "<matplotlib.legend.Legend at 0x10d601550>"
      ]
     },
     "execution_count": 81,
     "metadata": {},
     "output_type": "execute_result"
    },
    {
     "data": {
      "image/png": "[encoded data removed]",
      "text/plain": [
       "<Figure size 1296x720 with 1 Axes>"
      ]
     },
     "metadata": {
      "needs_background": "light"
     },
     "output_type": "display_data"
    }
   ],
   "source": [
    "x = np.linspace(2017, 2018, 2)\n",
    "sat_part_ill = final_df[['2017_sat_participation','2018_sat_participation']].loc[13]\n",
    "act_part_ill = final_df[['2017_act_participation','2018_act_participation']].loc[13]\n",
    "fig, ax = plt.subplots(figsize=(18,10))\n",
    "\n",
    "ax.plot(x, sat_part_ill, color='#4682B4', linewidth=2.00, marker='o', markersize=10)\n",
    "ax.plot(x, act_part_ill, color='#B22222', linewidth=2.00, marker='s', markersize=10)\n",
    "\n",
    "plt.title('Illinios SAT and ACT participation rates for 2017 and 2018', fontsize=28)\n",
    "plt.xlabel('Year', fontsize=16)\n",
    "plt.ylabel('Participation rate', fontsize=16)\n",
    "plt.xticks((2017,2018))\n",
    "plt.legend(['SAT','ACT'], loc=4)"
   ]
  },
  {
   "cell_type": "markdown",
   "metadata": {},
   "source": [
    "A similar change in state policy resulted in the same pattern of SAT/ACT participation rate change in Illinois. Like Colorado, [Illinois switched from the ACT to the SAT](https://www.chicagotribune.com/news/ct-illinois-chooses-sat-met-20160211-story.html) as the requirement for all high school graduates. SAT participation went from 9% in 2017 to 99% in 2018. ACT participation nosedived from 93% to 43%. \n",
    "\n",
    "Illinois also joined the list of states offering the SAT [during school hours and for free](https://reports.collegeboard.org/sat-suite-program-results/sat-school-day), lowering the barriers to taking the test."
   ]
  },
  {
   "cell_type": "code",
   "execution_count": 82,
   "metadata": {},
   "outputs": [
    {
     "data": {
      "text/plain": [
       "<matplotlib.legend.Legend at 0x10d650a90>"
      ]
     },
     "execution_count": 82,
     "metadata": {},
     "output_type": "execute_result"
    },
    {
     "data": {
      "image/png": "[encoded data removed]",
      "text/plain": [
       "<Figure size 1296x720 with 1 Axes>"
      ]
     },
     "metadata": {
      "needs_background": "light"
     },
     "output_type": "display_data"
    }
   ],
   "source": [
    "#Ohio SAT and ACT participation rates for 2017 and 2018\n",
    "x = np.linspace(2017, 2018, 2)\n",
    "sat_part_ohio = final_df[['2017_sat_participation','2018_sat_participation']].loc[35]\n",
    "act_part_ohio = final_df[['2017_act_participation','2018_act_participation']].loc[35]\n",
    "fig, ax = plt.subplots(figsize=(18,10))\n",
    "\n",
    "ax.plot(x, sat_part_ohio, color='#4682B4', linewidth=2.00, marker='o', markersize=10)\n",
    "ax.plot(x, act_part_ohio, color='#B22222', linewidth=2.00, marker='s', markersize=10)\n",
    "\n",
    "plt.title('Ohio SAT and ACT participation rates for 2017 and 2018', fontsize=28)\n",
    "plt.xlabel('Year', fontsize=16)\n",
    "plt.ylabel('Participation rate', fontsize=16)\n",
    "plt.xticks((2017,2018))\n",
    "plt.legend(['SAT','ACT'], loc=4)"
   ]
  },
  {
   "cell_type": "markdown",
   "metadata": {},
   "source": [
    "Ohio differs from the previous two examples as it bolstered its already considerable ACT participation from 75% in 2017 to 100% in 2018. Meanwhile, SAT participation grew modestly from 12% in 2017 to 18% in 2018. \n",
    "\n",
    "This change came after the state began requiring [all high school students to take either the SAT or ACT](https://www.dispatch.com/news/20170228/ohio-schools-must-now-give-act-or-sat-to-all-juniors) from 2017. Although officials allowed either tests, [about 95% of Ohio districts chose the ACT.](https://www.cleveland.com/metro/2018/10/more_ohio_students_took_the_ac.html)\n",
    "\n",
    "As the ACT was already the more popular choice by far before the state requirement, it was only natural for districts to go with what was familiar. Also, [the ACT fee is slightly cheaper than the SAT fee,](https://www.cleveland.com/metro/2017/04/free_sat_or_act_exams_give_all.html) and this could have been a factor for budget-conscious administrators as schools have to provide the college admissions tests for free. "
   ]
  },
  {
   "cell_type": "markdown",
   "metadata": {},
   "source": [
    "## Conclusions and Recommendations"
   ]
  },
  {
   "cell_type": "markdown",
   "metadata": {},
   "source": [
    "Based on your exploration of the data, what are you key takeaways and recommendations? Choose one state with a lower participation rate and provide a suggestion for how the College Board might increase participation amongst graduating seniors in this state. Are there additional data you desire that would better inform your investigations?"
   ]
  },
  {
   "cell_type": "markdown",
   "metadata": {},
   "source": [
    "### Key takeaways and recommendations\n",
    "\n",
    "* SAT scores improved in 2018 despite the spike in participation, while ACT scores have remained stagnant, as shown by the box plots. \n",
    "    * __Recommendation:__ Emphasize the improved performance in the SAT and in particular, the revamp to align the SAT with the US curriculum. \n",
    "\n",
    "\n",
    "* State rules have a large impact on whether students take the ACT or SAT.\n",
    "    * __Recommendation:__ Target states that are due to review their college admissions provider. \n",
    "\n",
    "\n",
    "* Testing during school hours boosts participation rates.\n",
    "    * __Recommendation:__ Negotiate school hours testing as part of package with states. \n",
    "    \n",
    "\n",
    "* Consider matching the fee of ACT.\n",
    "    * __Recommendation:__ This will lower barriers for budget-conscious administrators.\n",
    "    \n",
    "    \n",
    "* Free testing is also a major incentive to participate as states pay for students to take the test. \n",
    "    * __Recommendation:__ Also include free testing as part of negotiation with states. \n",
    "    \n",
    "    \n",
    "* [Issues may arise](https://www.chalkbeat.org/posts/co/2016/01/07/school-executives-group-files-protest-against-states-switch-to-sat/) even after decision to switch has been made. \n",
    "    * __Recommendation:__ Continue lobbying effort to reiterate why the decision to switch was made in the first place. \n",
    "\n",
    "\n",
    "* __Additional data required:__\n",
    "    * [List of states](https://www.edweek.org/ew/section/multimedia/states-require-students-take-sat-or-act.html) showing what college admission test is the current requirement.\n",
    "    * List of states showing when they are due to review their college admissions provider. \n",
    "    * Data showing those who enter college using SAT result ultimately graduate with better GPA or better honors. \n",
    "    \n",
    "__Conclusion__\n",
    "\n",
    "Among states that currently mandate either the SAT or ACT, Ohio is the most populous state that has higher ACT participation. We can therefore aim to persuade administrators to conduct the SAT instead of ACT. Indeed, the groundwork has already been prepared. According to the [Ohio Department of Education](http://education.ohio.gov/Topics/Testing/State-Funded-SAT-Test), the state has already committed to funding the SAT. Although most Ohio districts chose the ACT, there was also modest growth in SAT participation, suggesting that districts and students are open to trying out the SAT.\n",
    "\n",
    "There is tremendous potential for growth there and the College Board should reach out to Ohio districts to highlight the benefits of the SAT and persuade them to switch."
   ]
  }
 ],
 "metadata": {
  "anaconda-cloud": {},
  "kernelspec": {
   "display_name": "Python 3",
   "language": "python",
   "name": "python3"
  },
  "language_info": {
   "codemirror_mode": {
    "name": "ipython",
    "version": 3
   },
   "file_extension": ".py",
   "mimetype": "text/x-python",
   "name": "python",
   "nbconvert_exporter": "python",
   "pygments_lexer": "ipython3",
   "version": "3.7.3"
  }
 },
 "nbformat": 4,
 "nbformat_minor": 2
}
